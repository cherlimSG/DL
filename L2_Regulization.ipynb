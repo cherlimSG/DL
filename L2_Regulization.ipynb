{
  "nbformat": 4,
  "nbformat_minor": 0,
  "metadata": {
    "accelerator": "GPU",
    "colab": {
      "name": "Cher Eng Lim - L2_Regulization.ipynb",
      "provenance": [],
      "collapsed_sections": []
    },
    "coursera": {
      "course_slug": "deep-neural-network",
      "graded_item_id": "BFd89",
      "launcher_item_id": "AH2rK"
    },
    "kernelspec": {
      "display_name": "Python 3",
      "language": "python",
      "name": "python3"
    },
    "language_info": {
      "codemirror_mode": {
        "name": "ipython",
        "version": 3
      },
      "file_extension": ".py",
      "mimetype": "text/x-python",
      "name": "python",
      "nbconvert_exporter": "python",
      "pygments_lexer": "ipython3",
      "version": "3.6.8"
    }
  },
  "cells": [
    {
      "cell_type": "code",
      "metadata": {
        "id": "w_Mu_UzwqJNv",
        "colab": {
          "base_uri": "https://localhost:8080/"
        },
        "outputId": "d44a6bca-f8ab-4a51-ff6f-a3bd52ee1b5d"
      },
      "source": [
        "from google.colab import drive\n",
        "drive.mount('/content/drive')"
      ],
      "execution_count": 1,
      "outputs": [
        {
          "output_type": "stream",
          "name": "stdout",
          "text": [
            "Mounted at /content/drive\n"
          ]
        }
      ]
    },
    {
      "cell_type": "code",
      "metadata": {
        "id": "qpOyvUh9qHQk",
        "colab": {
          "base_uri": "https://localhost:8080/"
        },
        "outputId": "a4e37119-5ffb-4fcc-d682-f165a203e8f3"
      },
      "source": [
        "#%cd /content/drive/My Drive/\n",
        "%cd \"/content/drive/MyDrive/L2\""
      ],
      "execution_count": 7,
      "outputs": [
        {
          "output_type": "stream",
          "name": "stdout",
          "text": [
            "/content/drive/MyDrive/L2\n"
          ]
        }
      ]
    },
    {
      "cell_type": "code",
      "metadata": {
        "id": "v8Q0uip8tXPH",
        "colab": {
          "base_uri": "https://localhost:8080/"
        },
        "outputId": "7c533dca-6c46-4a05-c1e2-2059f7c60925"
      },
      "source": [
        "%ls"
      ],
      "execution_count": 8,
      "outputs": [
        {
          "output_type": "stream",
          "name": "stdout",
          "text": [
            "'Cher Eng Lim - BatchNorm.ipynb'\n",
            "'Cher Eng Lim - L2_Regulization.ipynb'\n",
            "'Cher Eng Lim - test_signs.h5'\n",
            "'Cher Eng Lim - train_signs.h5'\n",
            "'Cher Eng Lim - Week02 - Coding Assignment - L1L2 Regularization.ipynb'\n"
          ]
        }
      ]
    },
    {
      "cell_type": "markdown",
      "metadata": {
        "id": "G3-wQUvqZdgK"
      },
      "source": [
        "#Import nessessary libraries"
      ]
    },
    {
      "cell_type": "code",
      "metadata": {
        "id": "5Q63hyIzv9ke"
      },
      "source": [
        "import math\n",
        "import numpy as np\n",
        "import h5py\n",
        "import matplotlib.pyplot as plt\n",
        "\n",
        "import keras \n",
        "from keras.models import Sequential\n",
        "from keras.layers import Dense\n",
        "\n",
        "from keras import initializers, regularizers, optimizers\n",
        "\n",
        "%matplotlib inline\n",
        "plt.rcParams['figure.figsize'] = (8.0, 7.0) # set default size of plots\n",
        "plt.rcParams['image.interpolation'] = 'nearest'\n",
        "plt.rcParams['image.cmap'] = 'gray'"
      ],
      "execution_count": 4,
      "outputs": []
    },
    {
      "cell_type": "code",
      "metadata": {
        "id": "0UYYUn-kwYX-"
      },
      "source": [
        "def load_dataset():\n",
        "    train_dataset = h5py.File('Cher Eng Lim - train_signs.h5', \"r\")\n",
        "    train_set_x_orig = np.array(train_dataset[\"train_set_x\"][:]) # train set features\n",
        "    train_set_y_orig = np.array(train_dataset[\"train_set_y\"][:]) # train set labels\n",
        "\n",
        "    #test_dataset = h5py.File('datasets/test_signs.h5', \"r\")\n",
        "    test_dataset = h5py.File('Cher Eng Lim - test_signs.h5', \"r\")\n",
        "    test_set_x_orig = np.array(test_dataset[\"test_set_x\"][:]) # test set features\n",
        "    test_set_y_orig = np.array(test_dataset[\"test_set_y\"][:]) # test set labels\n",
        "\n",
        "    classes = np.array(test_dataset[\"list_classes\"][:]) # list of classes\n",
        "    \n",
        "    return train_set_x_orig, train_set_y_orig, test_set_x_orig, test_set_y_orig, classes"
      ],
      "execution_count": 12,
      "outputs": []
    },
    {
      "cell_type": "markdown",
      "metadata": {
        "id": "XusBXG8FZcW5"
      },
      "source": [
        "#Data: SIGNS Dataset\n",
        "\n",
        "We have two sets of data. Each sample is an image of size $64\\times 64$ pixels. \n",
        "\n",
        "- **Training set**: $1080$ samples of signs representing numbers from 0 to 5 (180 pictures per number).\n",
        "- **Test set**: $120$ samples of signs representing numbers from 0 to 5 (20 pictures per number).\n",
        "\n",
        "This is only a subset of the SIGNS dataset. The complete dataset contains many more signs."
      ]
    },
    {
      "cell_type": "code",
      "metadata": {
        "id": "gG-4EF3uZbQV"
      },
      "source": [
        "# Loading the dataset\n",
        "X_train_orig, y_train_orig, X_test_orig, y_test_orig, classes = load_dataset()"
      ],
      "execution_count": 13,
      "outputs": []
    },
    {
      "cell_type": "markdown",
      "metadata": {
        "id": "eEZ4bHTL1lpC"
      },
      "source": [
        "Let's print out the sizes of data."
      ]
    },
    {
      "cell_type": "code",
      "metadata": {
        "id": "p16yIzQNzsAO",
        "colab": {
          "base_uri": "https://localhost:8080/"
        },
        "outputId": "3ecc11a9-10e0-4f06-c01b-2d2e2b206ccb"
      },
      "source": [
        "print(\"Training set\")\n",
        "print(\"Size of X_train:\", X_train_orig.shape)\n",
        "print(\"Size of y_train:\", y_train_orig.shape)\n",
        "\n",
        "print(\"\\nTest set\")\n",
        "print(\"Size of X_test:\", X_test_orig.shape)\n",
        "print(\"Size of y_test:\", y_test_orig.shape)"
      ],
      "execution_count": 14,
      "outputs": [
        {
          "output_type": "stream",
          "name": "stdout",
          "text": [
            "Training set\n",
            "Size of X_train: (1080, 64, 64, 3)\n",
            "Size of y_train: (1080,)\n",
            "\n",
            "Test set\n",
            "Size of X_test: (120, 64, 64, 3)\n",
            "Size of y_test: (120,)\n"
          ]
        }
      ]
    },
    {
      "cell_type": "markdown",
      "metadata": {
        "id": "Ass3rY0c2Uic"
      },
      "source": [
        "Let's print out some images."
      ]
    },
    {
      "cell_type": "code",
      "metadata": {
        "id": "rds29ivu2YaB",
        "colab": {
          "base_uri": "https://localhost:8080/",
          "height": 446
        },
        "outputId": "814ee3a3-3cc7-45fe-fe05-7ca14779f1c5"
      },
      "source": [
        "# Example of an image\n",
        "index = 0\n",
        "plt.imshow(X_train_orig[index])\n",
        "print (\"y = \" + str(y_train_orig[index]))"
      ],
      "execution_count": 15,
      "outputs": [
        {
          "output_type": "stream",
          "name": "stdout",
          "text": [
            "y = 5\n"
          ]
        },
        {
          "output_type": "display_data",
          "data": {
            "image/png": "[encoded data removed]",
            "text/plain": [
              "<Figure size 576x504 with 1 Axes>"
            ]
          },
          "metadata": {
            "needs_background": "light"
          }
        }
      ]
    },
    {
      "cell_type": "code",
      "metadata": {
        "id": "wyeRUFh-2uuM",
        "colab": {
          "base_uri": "https://localhost:8080/",
          "height": 446
        },
        "outputId": "909364e3-cf16-4d46-e05d-83cb865dd702"
      },
      "source": [
        "index = 1000\n",
        "plt.imshow(X_train_orig[index])\n",
        "print (\"y = \" + str(y_train_orig[index]))"
      ],
      "execution_count": 16,
      "outputs": [
        {
          "output_type": "stream",
          "name": "stdout",
          "text": [
            "y = 2\n"
          ]
        },
        {
          "output_type": "display_data",
          "data": {
            "image/png": "[encoded data removed]",
            "text/plain": [
              "<Figure size 576x504 with 1 Axes>"
            ]
          },
          "metadata": {
            "needs_background": "light"
          }
        }
      ]
    },
    {
      "cell_type": "markdown",
      "metadata": {
        "id": "jiagsPj24Cr8"
      },
      "source": [
        "We have to flatten all images into rows. Each row is one sample. \n",
        "\n",
        "So in the training set we have\n",
        "- $1080$ rows because of $1080$ images\n",
        "- and each row has $64\\times 64\\times 3=12,288$ numbers\n",
        "\n",
        "So in the test set we have\n",
        "- $120$ rows because of $120$ images\n",
        "- and each row has $64\\times 64\\times 3=12,288$ numbers\n",
        "\n",
        "We also have to use one-hot encoding to transform `y_train_orig` and `y_test_orig`. "
      ]
    },
    {
      "cell_type": "code",
      "metadata": {
        "id": "FYjcQM2p37-T"
      },
      "source": [
        "X_train_flatten = X_train_orig.reshape(X_train_orig.shape[0], -1)/255\n",
        "X_test_flatten = X_test_orig.reshape(X_test_orig.shape[0], -1)/255"
      ],
      "execution_count": 17,
      "outputs": []
    },
    {
      "cell_type": "code",
      "metadata": {
        "id": "mbcN2_aH149M",
        "colab": {
          "base_uri": "https://localhost:8080/"
        },
        "outputId": "ff8b39f8-7ba9-493d-e948-8f592c92a521"
      },
      "source": [
        "print(\"Training set (flatten)\")\n",
        "print(\"Size of X_train_flatten:\", X_train_flatten.shape)\n",
        "\n",
        "print(\"\\nTest set (flatten)\")\n",
        "print(\"Size of X_test_flatten:\", X_test_flatten.shape)\n"
      ],
      "execution_count": 18,
      "outputs": [
        {
          "output_type": "stream",
          "name": "stdout",
          "text": [
            "Training set (flatten)\n",
            "Size of X_train_flatten: (1080, 12288)\n",
            "\n",
            "Test set (flatten)\n",
            "Size of X_test_flatten: (120, 12288)\n"
          ]
        }
      ]
    },
    {
      "cell_type": "code",
      "metadata": {
        "id": "qNT7CkNk0-R6"
      },
      "source": [
        "num_of_training_sample = X_train_flatten.shape[0]\n",
        "num_of_feature = X_train_flatten.shape[1]"
      ],
      "execution_count": 19,
      "outputs": []
    },
    {
      "cell_type": "markdown",
      "metadata": {
        "id": "SvTHwPn72Slf"
      },
      "source": [
        "##Activity 1: One-hot encoding\n",
        "\n",
        "You are supposed to convert `y_train` and `y_test` to matrices using one-hot encoding discussed in the previous semester.\n",
        "\n",
        "Another method: using [`keras.utils.to_categorical(y, num_classes=None, dtype=\"float32\")`](https://keras.io/api/utils/python_utils/#to_categorical-function)"
      ]
    },
    {
      "cell_type": "code",
      "metadata": {
        "id": "QNmU6jKW2i4U"
      },
      "source": [
        "# Your code\n",
        "\n",
        "import tensorflow\n",
        "from tensorflow.keras.utils import to_categorical\n",
        "y_train = to_categorical(y_train_orig)\n",
        "\n",
        "y_test = to_categorical(y_test_orig)"
      ],
      "execution_count": 31,
      "outputs": []
    },
    {
      "cell_type": "code",
      "metadata": {
        "id": "ALsHpF_1ai-9",
        "colab": {
          "base_uri": "https://localhost:8080/"
        },
        "outputId": "11c70bd4-3595-4941-dc9d-0200f271c074"
      },
      "source": [
        "print(\"Training set (y)\")\n",
        "print(\"Size of y_train:\", y_train.shape)\n",
        "\n",
        "print(\"\\nTest set (y)\")\n",
        "print(\"Size of y_test:\", y_test.shape)"
      ],
      "execution_count": 32,
      "outputs": [
        {
          "output_type": "stream",
          "name": "stdout",
          "text": [
            "Training set (y)\n",
            "Size of y_train: (1080, 6)\n",
            "\n",
            "Test set (y)\n",
            "Size of y_test: (120, 6)\n"
          ]
        }
      ]
    },
    {
      "cell_type": "code",
      "metadata": {
        "id": "AmhnpvInjga2",
        "colab": {
          "base_uri": "https://localhost:8080/"
        },
        "outputId": "dac2d46d-1755-4f13-9e6b-8d5c33666385"
      },
      "source": [
        "y_train[1:10]"
      ],
      "execution_count": 33,
      "outputs": [
        {
          "output_type": "execute_result",
          "data": {
            "text/plain": [
              "array([[1., 0., 0., 0., 0., 0.],\n",
              "       [0., 0., 1., 0., 0., 0.],\n",
              "       [0., 0., 0., 0., 0., 1.],\n",
              "       [0., 0., 1., 0., 0., 0.],\n",
              "       [0., 0., 0., 0., 1., 0.],\n",
              "       [0., 0., 1., 0., 0., 0.],\n",
              "       [0., 1., 0., 0., 0., 0.],\n",
              "       [0., 1., 0., 0., 0., 0.],\n",
              "       [0., 0., 0., 0., 1., 0.]], dtype=float32)"
            ]
          },
          "metadata": {},
          "execution_count": 33
        }
      ]
    },
    {
      "cell_type": "code",
      "metadata": {
        "id": "sX4wXMZrjme9",
        "colab": {
          "base_uri": "https://localhost:8080/"
        },
        "outputId": "2384d89d-0344-41c7-b66c-6c26041ed970"
      },
      "source": [
        "y_train_orig[1:10]"
      ],
      "execution_count": 34,
      "outputs": [
        {
          "output_type": "execute_result",
          "data": {
            "text/plain": [
              "array([0, 2, 5, 2, 4, 2, 1, 1, 4])"
            ]
          },
          "metadata": {},
          "execution_count": 34
        }
      ]
    },
    {
      "cell_type": "markdown",
      "metadata": {
        "id": "LW8S6sVzT12h"
      },
      "source": [
        "# Building the first neural network\n",
        "\n",
        "\n"
      ]
    },
    {
      "cell_type": "markdown",
      "metadata": {
        "id": "YzKkWvJPb9dx"
      },
      "source": [
        "##Activity 2: Build the following ANN:\n",
        "\n",
        "- input layer -> first hidden layer -> second hidden layer -> output layer\n",
        "\n",
        "- ReLu is used in the hidden layers\n",
        "\n",
        "- $40$ neurons in the first hidden layer\n",
        "\n",
        "- $20$ neuron in the second hidden layer\n",
        "\n",
        "- He initialization is used\n",
        "\n",
        "- Adam optimizer is used\n",
        "\n",
        "You have to decide on the number of neurons of the output layer as well as the activation fucntion used at the layer.\n"
      ]
    },
    {
      "cell_type": "code",
      "metadata": {
        "id": "7rZi6XvSg-hp"
      },
      "source": [
        "# Your code\n",
        "my_ANN = Sequential()\n",
        "\n",
        "my_ANN.add(Dense(40, input_shape = (12288,), activation = 'relu', kernel_initializer = initializers.HeNormal(),\n",
        "bias_initializer = initializers.Zeros()))\n",
        "my_ANN.add(Dense(20, activation = 'relu', kernel_initializer = initializers.HeNormal(), bias_initializer = initializers.Zeros()))\n",
        "my_ANN.add(Dense(6, activation = 'softmax'))\n",
        "\n",
        "my_ANN.compile(loss = 'categorical_crossentropy',\n",
        "              optimizer = tensorflow.keras.optimizers.Adam(learning_rate = 0.0001),\n",
        "              metrics = ['accuracy'])\n",
        "\n",
        "history = my_ANN.fit(X_train_flatten, y_train, epochs = 1000, batch_size = 128, verbose = 0, validation_data = (X_test_flatten, y_test))"
      ],
      "execution_count": 42,
      "outputs": []
    },
    {
      "cell_type": "code",
      "metadata": {
        "id": "1DumCf3rF_FN",
        "colab": {
          "base_uri": "https://localhost:8080/",
          "height": 428
        },
        "outputId": "1388ce59-91f9-4f0a-8e7d-ccdc1b5ecde4"
      },
      "source": [
        "plt.plot(history.history['accuracy'], label=\"Train\")\n",
        "plt.plot(history.history['val_accuracy'], label='test')\n",
        "plt.grid()"
      ],
      "execution_count": 46,
      "outputs": [
        {
          "output_type": "display_data",
          "data": {
            "image/png": "[encoded data removed]",
            "text/plain": [
              "<Figure size 576x504 with 1 Axes>"
            ]
          },
          "metadata": {
            "needs_background": "light"
          }
        }
      ]
    },
    {
      "cell_type": "code",
      "metadata": {
        "id": "D6Nnu7WMuGDc",
        "colab": {
          "base_uri": "https://localhost:8080/",
          "height": 428
        },
        "outputId": "fa258945-32e7-4a1c-a2fb-cd0d5237fd11"
      },
      "source": [
        "plt.semilogy(history.history[\"loss\"])\n",
        "plt.grid()"
      ],
      "execution_count": 44,
      "outputs": [
        {
          "output_type": "display_data",
          "data": {
            "image/png": "[encoded data removed]",
            "text/plain": [
              "<Figure size 576x504 with 1 Axes>"
            ]
          },
          "metadata": {
            "needs_background": "light"
          }
        }
      ]
    },
    {
      "cell_type": "markdown",
      "metadata": {
        "id": "f6p0M77sv3ET"
      },
      "source": [
        "##Activity 3: Check the accuracy on the training set and that on the test set. What conclusion do you draw from these two accuracies?"
      ]
    },
    {
      "cell_type": "code",
      "metadata": {
        "id": "uLV10LE4w2QB",
        "colab": {
          "base_uri": "https://localhost:8080/"
        },
        "outputId": "c7264a79-9cac-4336-e3bc-cebec8472a5c"
      },
      "source": [
        "print(\"Accuracy on the training set: \", my_ANN.evaluate(X_train_flatten, y_train)[1])"
      ],
      "execution_count": 47,
      "outputs": [
        {
          "output_type": "stream",
          "name": "stdout",
          "text": [
            "34/34 [==============================] - 0s 4ms/step - loss: 0.0359 - accuracy: 0.9991\n",
            "Accuracy on the training set:  0.9990741014480591\n"
          ]
        }
      ]
    },
    {
      "cell_type": "code",
      "metadata": {
        "id": "PtbjkteDiy9h",
        "colab": {
          "base_uri": "https://localhost:8080/"
        },
        "outputId": "a42f6d8f-9efd-4449-d1ae-5b2252d47686"
      },
      "source": [
        "print(\"Accuracy on the test set: \", my_ANN.evaluate(X_test_flatten, y_test)[1])"
      ],
      "execution_count": 48,
      "outputs": [
        {
          "output_type": "stream",
          "name": "stdout",
          "text": [
            "4/4 [==============================] - 0s 6ms/step - loss: 0.3709 - accuracy: 0.8500\n",
            "Accuracy on the test set:  0.8500000238418579\n"
          ]
        }
      ]
    },
    {
      "cell_type": "markdown",
      "metadata": {
        "id": "cFtBUckWxMtK"
      },
      "source": [
        "###Your observation: \n",
        "Test set accuracy is lower than training set. Possibly overfit?"
      ]
    },
    {
      "cell_type": "markdown",
      "metadata": {
        "id": "gEXtD53GxSKy"
      },
      "source": [
        "#Build the second neural network"
      ]
    },
    {
      "cell_type": "markdown",
      "metadata": {
        "id": "8qNz6ZxIr3Ck"
      },
      "source": [
        "##Activity 4: Build the following ANN:\n",
        "\n",
        "- input layer -> first hidden layer -> second hidden layer -> output layer\n",
        "\n",
        "- ReLu is used in the hidden layers\n",
        "\n",
        "- $40$ neurons in the first hidden layer\n",
        "\n",
        "- $20$ neuron in the second hidden layer\n",
        "\n",
        "- He initialization is used\n",
        "\n",
        "- Adam optimizer is used\n",
        "\n",
        "- L2 regularization (`l2_lambda = 1e-1`)\n",
        "\n",
        "You have to decide on the number of neurons of the output layer as well as the activation fucntion used at the layer."
      ]
    },
    {
      "cell_type": "code",
      "metadata": {
        "id": "wCgjv84yT12i"
      },
      "source": [
        "# Your code\n",
        "l2_lambda = 1e-1\n",
        "my_ANN_L2 = Sequential()\n",
        "my_ANN_L2.add(Dense(40, input_shape = (12288,), activation = 'relu', kernel_regularizer=regularizers.l2(l2 = l2_lambda), kernel_initializer = initializers.HeNormal(),\n",
        "bias_initializer = initializers.Zeros()))\n",
        "my_ANN_L2.add(Dense(20, activation = 'relu', kernel_regularizer=regularizers.l2(l2 = l2_lambda), kernel_initializer = initializers.HeNormal(), bias_initializer = initializers.Zeros()))\n",
        "my_ANN_L2.add(Dense(6, activation = 'softmax'))\n",
        "\n",
        "my_ANN.compile(loss = 'categorical_crossentropy',\n",
        "              optimizer = tensorflow.keras.optimizers.Adam(learning_rate = 0.0001),\n",
        "              metrics = ['accuracy'])\n",
        "\n",
        "my_ANN_L2.compile(loss = 'categorical_crossentropy',\n",
        "              optimizer = tensorflow.keras.optimizers.Adam(learning_rate=1e-4),\n",
        "              metrics = ['accuracy'])\n",
        "\n",
        "history_L2 = my_ANN_L2.fit(X_train_flatten, y_train, epochs = 2000, batch_size = 128, verbose = 0, validation_data=(X_test_flatten, y_test))"
      ],
      "execution_count": 56,
      "outputs": []
    },
    {
      "cell_type": "code",
      "metadata": {
        "id": "ob0MaGBetxNw",
        "colab": {
          "base_uri": "https://localhost:8080/",
          "height": 428
        },
        "outputId": "ef29b6a5-34f6-4d9f-b38f-1194974cf77b"
      },
      "source": [
        "plt.plot(history_L2.history['accuracy'], label=\"Train\")\n",
        "plt.plot(history_L2.history['val_accuracy'], label = \"Test\")\n",
        "plt.legend()\n",
        "plt.grid()"
      ],
      "execution_count": 57,
      "outputs": [
        {
          "output_type": "display_data",
          "data": {
            "image/png": "[encoded data removed]",
            "text/plain": [
              "<Figure size 576x504 with 1 Axes>"
            ]
          },
          "metadata": {
            "needs_background": "light"
          }
        }
      ]
    },
    {
      "cell_type": "code",
      "metadata": {
        "id": "W2HE3-Vh7Ewp",
        "colab": {
          "base_uri": "https://localhost:8080/"
        },
        "outputId": "d94dec8e-8352-46e2-d43d-1dbf0f66e582"
      },
      "source": [
        "print(\"Accuracy on the training set: \", my_ANN_L2.evaluate(X_train_flatten, y_train)[1])\n",
        "print(\"Accuracy on the test set: \", my_ANN_L2.evaluate(X_test_flatten, y_test)[1])"
      ],
      "execution_count": 58,
      "outputs": [
        {
          "output_type": "stream",
          "name": "stdout",
          "text": [
            "34/34 [==============================] - 0s 4ms/step - loss: 0.8849 - accuracy: 0.9019\n",
            "Accuracy on the training set:  0.9018518328666687\n",
            "4/4 [==============================] - 0s 5ms/step - loss: 1.0582 - accuracy: 0.8500\n",
            "Accuracy on the test set:  0.8500000238418579\n"
          ]
        }
      ]
    },
    {
      "cell_type": "markdown",
      "metadata": {
        "id": "4Us1wvO_6SOK"
      },
      "source": [
        "###Your observation: \n",
        "The test data accuracy remains about the same as before without regularization."
      ]
    },
    {
      "cell_type": "markdown",
      "metadata": {
        "id": "jGrOOoTp2Vf_"
      },
      "source": [
        "##Activity 5: Build the following ANN:\n",
        "\n",
        "- input layer -> first hidden layer -> second hidden layer -> output layer\n",
        "\n",
        "- ReLu is used in the hidden layers\n",
        "\n",
        "- $40$ neurons in the first hidden layer\n",
        "\n",
        "- $20$ neuron in the second hidden layer\n",
        "\n",
        "- He initialization is used\n",
        "\n",
        "- Adam optimizer is used\n",
        "\n",
        "- L2 regularization (`l2_lambda = 1e-3`)\n",
        "\n",
        "You have to decide on the number of neurons of the output layer as well as the activation fucntion used at the layer."
      ]
    },
    {
      "cell_type": "code",
      "metadata": {
        "id": "sGSuRWqn3-6Q"
      },
      "source": [
        "# Your code\n",
        "l2_lambda = 1e-5\n",
        "my_ANN_L2_2 = Sequential()\n",
        "my_ANN_L2_2.add(Dense(40, input_shape = (12288,), activation = 'relu', kernel_regularizer=regularizers.l2(l2 = l2_lambda), kernel_initializer = initializers.HeNormal(),\n",
        "bias_initializer = initializers.Zeros()))\n",
        "my_ANN_L2_2.add(Dense(20, activation = 'relu', kernel_regularizer=regularizers.l2(l2 = l2_lambda), kernel_initializer = initializers.HeNormal(), bias_initializer = initializers.Zeros()))\n",
        "my_ANN_L2_2.add(Dense(6, activation = 'softmax'))\n",
        "\n",
        "\n",
        "my_ANN_L2_2.compile(loss = 'categorical_crossentropy',\n",
        "              optimizer = tensorflow.keras.optimizers.Adam(learning_rate=1e-4),\n",
        "              metrics = ['accuracy'])\n",
        "\n",
        "history_L2_2 = my_ANN_L2_2.fit(X_train_flatten, y_train, epochs = 2000, batch_size = 128, verbose = 0, validation_data=(X_test_flatten, y_test))"
      ],
      "execution_count": 60,
      "outputs": []
    },
    {
      "cell_type": "code",
      "metadata": {
        "id": "29lPIaHNB8tH",
        "colab": {
          "base_uri": "https://localhost:8080/",
          "height": 428
        },
        "outputId": "6af169cf-ed32-465a-b6d6-3e5f9399f890"
      },
      "source": [
        "plt.plot(history_L2_2.history['accuracy'], label=\"train\")\n",
        "plt.plot(history_L2_2.history['val_accuracy'], label=\"test\")\n",
        "plt.legend()\n",
        "plt.grid()"
      ],
      "execution_count": 61,
      "outputs": [
        {
          "output_type": "display_data",
          "data": {
            "image/png": "[encoded data removed]",
            "text/plain": [
              "<Figure size 576x504 with 1 Axes>"
            ]
          },
          "metadata": {
            "needs_background": "light"
          }
        }
      ]
    },
    {
      "cell_type": "code",
      "metadata": {
        "id": "MuJI5hRQ492e",
        "colab": {
          "base_uri": "https://localhost:8080/"
        },
        "outputId": "34afc719-aa59-489d-88f1-139df0d734d7"
      },
      "source": [
        "print(\"Accuracy on the training set: \", my_ANN_L2_2.evaluate(X_train_flatten, y_train)[1])\n",
        "print(\"Accuracy on the test set: \", my_ANN_L2_2.evaluate(X_test_flatten, y_test)[1])"
      ],
      "execution_count": 62,
      "outputs": [
        {
          "output_type": "stream",
          "name": "stdout",
          "text": [
            "34/34 [==============================] - 0s 4ms/step - loss: 0.0015 - accuracy: 1.0000\n",
            "Accuracy on the training set:  1.0\n",
            "4/4 [==============================] - 0s 6ms/step - loss: 0.4254 - accuracy: 0.8917\n",
            "Accuracy on the test set:  0.8916666507720947\n"
          ]
        }
      ]
    },
    {
      "cell_type": "markdown",
      "metadata": {
        "id": "-tKn-1PX6fA4"
      },
      "source": [
        "###Your observation: \n",
        "Test set accuracy has improved with regularization L2 lambda=1e-5."
      ]
    }
  ]
}