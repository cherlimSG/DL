{
  "nbformat": 4,
  "nbformat_minor": 0,
  "metadata": {
    "colab": {
      "name": "Cher Eng Lim - Lab_IMDB_Review Classification.ipynb",
      "provenance": [],
      "collapsed_sections": []
    },
    "kernelspec": {
      "name": "python3",
      "display_name": "Python 3"
    }
  },
  "cells": [
    {
      "cell_type": "markdown",
      "metadata": {
        "id": "HmIu3C5rqhG5"
      },
      "source": [
        "#Load nessessary libraries"
      ]
    },
    {
      "cell_type": "code",
      "metadata": {
        "id": "UgykftBXXYzL"
      },
      "source": [
        "import numpy\n",
        "from keras.datasets import imdb\n",
        "from keras.models import Sequential\n",
        "from keras.layers import Dense\n",
        "from keras.layers import LSTM, SimpleRNN\n",
        "from keras.layers.embeddings import Embedding\n",
        "from keras.layers import Flatten\n",
        "from keras.preprocessing import sequence\n",
        "from keras.layers.convolutional import Conv1D\n",
        "from keras.layers.convolutional import MaxPooling1D\n",
        "import numpy as np"
      ],
      "execution_count": 1,
      "outputs": []
    },
    {
      "cell_type": "markdown",
      "metadata": {
        "id": "0bDv6NmJqmx_"
      },
      "source": [
        "#Load the data"
      ]
    },
    {
      "cell_type": "markdown",
      "metadata": {
        "id": "Dydpg0kHq1iD"
      },
      "source": [
        "[Link](https://www.tensorflow.org/api_docs/python/tf/keras/datasets/imdb/load_data) to `imdb.load_data`."
      ]
    },
    {
      "cell_type": "code",
      "metadata": {
        "id": "w0PtILJXXjW1"
      },
      "source": [
        "vocabulary_size = 5000 # maximum size of vocabulary\n",
        "\n",
        "max_review_length = 500 # maximum length of each review"
      ],
      "execution_count": 2,
      "outputs": []
    },
    {
      "cell_type": "code",
      "metadata": {
        "id": "-MgWYM4kXfHm",
        "colab": {
          "base_uri": "https://localhost:8080/"
        },
        "outputId": "959b67e2-f068-4aee-fd68-ce70d9a912eb"
      },
      "source": [
        "(X_train, y_train), (X_test, y_test) = imdb.load_data(num_words = vocabulary_size)"
      ],
      "execution_count": 3,
      "outputs": [
        {
          "output_type": "stream",
          "name": "stdout",
          "text": [
            "Downloading data from https://storage.googleapis.com/tensorflow/tf-keras-datasets/imdb.npz\n",
            "17465344/17464789 [==============================] - 0s 0us/step\n",
            "17473536/17464789 [==============================] - 0s 0us/step\n"
          ]
        }
      ]
    },
    {
      "cell_type": "code",
      "metadata": {
        "id": "e0n7K1wKXsM0"
      },
      "source": [
        "X_train = sequence.pad_sequences(X_train, maxlen = max_review_length)\n",
        "X_test = sequence.pad_sequences(X_test, maxlen = max_review_length)"
      ],
      "execution_count": 4,
      "outputs": []
    },
    {
      "cell_type": "markdown",
      "metadata": {
        "id": "1TMjta_vwvbu"
      },
      "source": [
        "#Feedforward networks without embeddings\n",
        "\n",
        "- Single hidden layer: 250 neurons\n",
        "\n",
        "- Output layer: you have to set it"
      ]
    },
    {
      "cell_type": "code",
      "metadata": {
        "id": "rBny_YfGwu4p",
        "colab": {
          "base_uri": "https://localhost:8080/"
        },
        "outputId": "0d61bfe2-d976-4b65-f291-1b218ff551f3"
      },
      "source": [
        "model1 = Sequential()\n",
        "\n",
        "model1.add(Dense(250, input_shape=(max_review_length,), activation='relu'))\n",
        "model1.add(Dense(1, activation='sigmoid'))\n",
        "\n",
        "\n",
        "print(model1.summary())"
      ],
      "execution_count": null,
      "outputs": [
        {
          "output_type": "stream",
          "name": "stdout",
          "text": [
            "Model: \"sequential_15\"\n",
            "_________________________________________________________________\n",
            " Layer (type)                Output Shape              Param #   \n",
            "=================================================================\n",
            " dense_27 (Dense)            (None, 250)               125250    \n",
            "                                                                 \n",
            " dense_28 (Dense)            (None, 1)                 251       \n",
            "                                                                 \n",
            "=================================================================\n",
            "Total params: 125,501\n",
            "Trainable params: 125,501\n",
            "Non-trainable params: 0\n",
            "_________________________________________________________________\n",
            "None\n"
          ]
        }
      ]
    },
    {
      "cell_type": "code",
      "source": [
        "model1.compile(optimizer='adam', loss='binary_crossentropy', metrics=['accuracy'])"
      ],
      "metadata": {
        "id": "fsMj2_G6mBSz"
      },
      "execution_count": null,
      "outputs": []
    },
    {
      "cell_type": "code",
      "metadata": {
        "id": "biMN9VVg4aDz",
        "colab": {
          "base_uri": "https://localhost:8080/"
        },
        "outputId": "fd003621-8258-4621-a22d-c1f13ee56c40"
      },
      "source": [
        "history1=model1.fit(X_train, y_train, epochs = 10, validation_data=(X_test, y_test), batch_size = 128, verbose = 2)\n",
        "\n"
      ],
      "execution_count": null,
      "outputs": [
        {
          "output_type": "stream",
          "name": "stdout",
          "text": [
            "Epoch 1/10\n",
            "196/196 - 2s - loss: 99.0660 - accuracy: 0.4989 - val_loss: 51.0719 - val_accuracy: 0.5018 - 2s/epoch - 9ms/step\n",
            "Epoch 2/10\n",
            "196/196 - 1s - loss: 26.9068 - accuracy: 0.5686 - val_loss: 24.8197 - val_accuracy: 0.5019 - 1s/epoch - 6ms/step\n",
            "Epoch 3/10\n",
            "196/196 - 1s - loss: 9.4498 - accuracy: 0.6461 - val_loss: 14.6082 - val_accuracy: 0.5032 - 1s/epoch - 5ms/step\n",
            "Epoch 4/10\n",
            "196/196 - 1s - loss: 3.9321 - accuracy: 0.7119 - val_loss: 9.8009 - val_accuracy: 0.5055 - 1s/epoch - 5ms/step\n",
            "Epoch 5/10\n",
            "196/196 - 1s - loss: 2.0478 - accuracy: 0.7520 - val_loss: 7.0877 - val_accuracy: 0.5065 - 1s/epoch - 5ms/step\n",
            "Epoch 6/10\n",
            "196/196 - 1s - loss: 1.2217 - accuracy: 0.7821 - val_loss: 5.4887 - val_accuracy: 0.5074 - 1s/epoch - 6ms/step\n",
            "Epoch 7/10\n",
            "196/196 - 1s - loss: 0.8153 - accuracy: 0.8057 - val_loss: 4.7683 - val_accuracy: 0.5072 - 1s/epoch - 6ms/step\n",
            "Epoch 8/10\n",
            "196/196 - 1s - loss: 0.6406 - accuracy: 0.8236 - val_loss: 4.4523 - val_accuracy: 0.5033 - 1s/epoch - 6ms/step\n",
            "Epoch 9/10\n",
            "196/196 - 1s - loss: 0.5167 - accuracy: 0.8421 - val_loss: 4.4339 - val_accuracy: 0.5071 - 1s/epoch - 6ms/step\n",
            "Epoch 10/10\n",
            "196/196 - 1s - loss: 0.4395 - accuracy: 0.8562 - val_loss: 4.3738 - val_accuracy: 0.5086 - 1s/epoch - 5ms/step\n"
          ]
        }
      ]
    },
    {
      "cell_type": "code",
      "source": [
        "scores = model1.evaluate(X_test,y_test)\n",
        "\n",
        "print(\"Accuracy: %.2f%%\" % (scores[1]*100))"
      ],
      "metadata": {
        "colab": {
          "base_uri": "https://localhost:8080/"
        },
        "id": "f4q-_SuBp28X",
        "outputId": "4d4807d9-42a6-45dc-f08a-238b0be4ff6f"
      },
      "execution_count": null,
      "outputs": [
        {
          "output_type": "stream",
          "name": "stdout",
          "text": [
            "782/782 [==============================] - 2s 3ms/step - loss: 4.3738 - accuracy: 0.5086\n",
            "Accuracy: 50.86%\n"
          ]
        }
      ]
    },
    {
      "cell_type": "markdown",
      "metadata": {
        "id": "NTXzr1iA2CiB"
      },
      "source": [
        "#Feedforward networks with embeddings\n",
        "\n",
        "- Embedding layer: `embedding_dim = 100`\n",
        "\n",
        "- Flatten layer\n",
        "\n",
        "- Dense layer: 250 neurons\n",
        "\n",
        "- Ouput layer"
      ]
    },
    {
      "cell_type": "code",
      "source": [
        "from keras.layers import Dropout, BatchNormalization"
      ],
      "metadata": {
        "id": "XBe_fUUHtXtS"
      },
      "execution_count": 5,
      "outputs": []
    },
    {
      "cell_type": "code",
      "source": [
        "embedding_dim = 100"
      ],
      "metadata": {
        "id": "vsrbOIKKzgDY"
      },
      "execution_count": 6,
      "outputs": []
    },
    {
      "cell_type": "code",
      "metadata": {
        "id": "mAj5VRh02Bts",
        "colab": {
          "base_uri": "https://localhost:8080/"
        },
        "outputId": "6ad54349-3741-4c6c-f026-c97d2bfde893"
      },
      "source": [
        "model2 = Sequential()\n",
        "\n",
        "model2.add(Embedding(vocabulary_size, embedding_dim, input_length = max_review_length))\n",
        "model2.add(Flatten())\n",
        "#model2.add(Dense(250, activation='relu'))\n",
        "#model2.add(Dropout(0.5))\n",
        "model2.add(Dense(1, activation='sigmoid'))\n",
        "\n",
        "print(model2.summary())"
      ],
      "execution_count": null,
      "outputs": [
        {
          "output_type": "stream",
          "name": "stdout",
          "text": [
            "Model: \"sequential_17\"\n",
            "_________________________________________________________________\n",
            " Layer (type)                Output Shape              Param #   \n",
            "=================================================================\n",
            " embedding_12 (Embedding)    (None, 500, 100)          500000    \n",
            "                                                                 \n",
            " flatten_10 (Flatten)        (None, 50000)             0         \n",
            "                                                                 \n",
            " dense_31 (Dense)            (None, 1)                 50001     \n",
            "                                                                 \n",
            "=================================================================\n",
            "Total params: 550,001\n",
            "Trainable params: 550,001\n",
            "Non-trainable params: 0\n",
            "_________________________________________________________________\n",
            "None\n"
          ]
        }
      ]
    },
    {
      "cell_type": "code",
      "source": [
        "model2.compile(optimizer='adam', loss='binary_crossentropy', metrics=['accuracy'])"
      ],
      "metadata": {
        "id": "0ppK6y5xrVjY"
      },
      "execution_count": null,
      "outputs": []
    },
    {
      "cell_type": "code",
      "source": [
        "history2=model2.fit(X_train, y_train, epochs = 5, validation_data=(X_test, y_test), batch_size = 128, verbose = 2)\n"
      ],
      "metadata": {
        "colab": {
          "base_uri": "https://localhost:8080/"
        },
        "id": "O6-LMZLGrbZL",
        "outputId": "9976af48-ac6f-40cb-bba3-abd5acd95e01"
      },
      "execution_count": null,
      "outputs": [
        {
          "output_type": "stream",
          "name": "stdout",
          "text": [
            "Epoch 1/5\n",
            "196/196 - 3s - loss: 0.5065 - accuracy: 0.7383 - val_loss: 0.3251 - val_accuracy: 0.8615 - 3s/epoch - 13ms/step\n",
            "Epoch 2/5\n",
            "196/196 - 2s - loss: 0.2370 - accuracy: 0.9082 - val_loss: 0.2734 - val_accuracy: 0.8861 - 2s/epoch - 10ms/step\n",
            "Epoch 3/5\n",
            "196/196 - 2s - loss: 0.1519 - accuracy: 0.9496 - val_loss: 0.2795 - val_accuracy: 0.8830 - 2s/epoch - 9ms/step\n",
            "Epoch 4/5\n",
            "196/196 - 2s - loss: 0.0886 - accuracy: 0.9804 - val_loss: 0.2922 - val_accuracy: 0.8812 - 2s/epoch - 9ms/step\n",
            "Epoch 5/5\n",
            "196/196 - 2s - loss: 0.0481 - accuracy: 0.9939 - val_loss: 0.3081 - val_accuracy: 0.8791 - 2s/epoch - 10ms/step\n"
          ]
        }
      ]
    },
    {
      "cell_type": "code",
      "metadata": {
        "id": "9rbNWmRA3Qkg",
        "colab": {
          "base_uri": "https://localhost:8080/"
        },
        "outputId": "c89fcb96-afd0-4068-d1f0-fc580c67ca89"
      },
      "source": [
        "scores = model2.evaluate(X_test,y_test)\n",
        "\n",
        "print(\"Accuracy: %.2f%%\" % (scores[1]*100))\n"
      ],
      "execution_count": null,
      "outputs": [
        {
          "output_type": "stream",
          "name": "stdout",
          "text": [
            "782/782 [==============================] - 2s 3ms/step - loss: 0.3081 - accuracy: 0.8791\n",
            "Accuracy: 87.91%\n"
          ]
        }
      ]
    },
    {
      "cell_type": "markdown",
      "source": [
        "##Observations:##\n",
        "1. Embedding layer improves both the training and test accuracy significantly.\n",
        "1. However, the model is stubborndly overfitted despite several attempts at dropouts and #neurons!!"
      ],
      "metadata": {
        "id": "l16gZssxt6ac"
      }
    },
    {
      "cell_type": "markdown",
      "metadata": {
        "id": "AYxJjvkf3efZ"
      },
      "source": [
        "#CNN\n",
        "\n",
        "#Feedforward networks with embeddings\n",
        "\n",
        "- Embedding layer: `embedding_dim = 100`\n",
        "\n",
        "- Conv1D: 200 filter, kernel size 3, same padding\n",
        "\n",
        "- MaxPooling layer: ppoling size 2\n",
        "\n",
        "- Flatten layer\n",
        "\n",
        "- Dense layer: 250 neurons\n",
        "\n",
        "- Ouput layer"
      ]
    },
    {
      "cell_type": "code",
      "source": [
        "embedding_dim = 100"
      ],
      "metadata": {
        "id": "VbRt9z_uuAO8"
      },
      "execution_count": null,
      "outputs": []
    },
    {
      "cell_type": "code",
      "metadata": {
        "id": "u0vH2JzzYPs2",
        "colab": {
          "base_uri": "https://localhost:8080/"
        },
        "outputId": "f5165d7c-9443-4a0c-c40a-ecbcc79e9274"
      },
      "source": [
        "model3 = Sequential()\n",
        "\n",
        "model3.add(Embedding(vocabulary_size, embedding_dim, input_length = max_review_length))\n",
        "model3.add(Conv1D(32, kernel_size=3, activation='relu', padding='same'))\n",
        "model3.add(MaxPooling1D(pool_size=2))\n",
        "model3.add(Flatten())\n",
        "model3.add(Dropout(0.5))\n",
        "#model3.add(Dense(10, activation='relu'))\n",
        "model3.add(Dense(1, activation='sigmoid'))\n",
        "\n",
        "print(model3.summary())"
      ],
      "execution_count": null,
      "outputs": [
        {
          "output_type": "stream",
          "name": "stdout",
          "text": [
            "Model: \"sequential_19\"\n",
            "_________________________________________________________________\n",
            " Layer (type)                Output Shape              Param #   \n",
            "=================================================================\n",
            " embedding_14 (Embedding)    (None, 500, 100)          500000    \n",
            "                                                                 \n",
            " conv1d_4 (Conv1D)           (None, 500, 32)           9632      \n",
            "                                                                 \n",
            " max_pooling1d_4 (MaxPooling  (None, 250, 32)          0         \n",
            " 1D)                                                             \n",
            "                                                                 \n",
            " flatten_12 (Flatten)        (None, 8000)              0         \n",
            "                                                                 \n",
            " dropout_13 (Dropout)        (None, 8000)              0         \n",
            "                                                                 \n",
            " dense_33 (Dense)            (None, 1)                 8001      \n",
            "                                                                 \n",
            "=================================================================\n",
            "Total params: 517,633\n",
            "Trainable params: 517,633\n",
            "Non-trainable params: 0\n",
            "_________________________________________________________________\n",
            "None\n"
          ]
        }
      ]
    },
    {
      "cell_type": "code",
      "source": [
        "model3.compile(optimizer='adam', loss='binary_crossentropy', metrics=['accuracy'])"
      ],
      "metadata": {
        "id": "MnDPU4eBvHk5"
      },
      "execution_count": null,
      "outputs": []
    },
    {
      "cell_type": "code",
      "source": [
        "history3=model3.fit(X_train, y_train, epochs = 15, validation_data=(X_test, y_test), batch_size = 128, verbose = 2)"
      ],
      "metadata": {
        "colab": {
          "base_uri": "https://localhost:8080/"
        },
        "id": "fgYTl8s8vMQ9",
        "outputId": "1a683afa-65f9-4aa7-c242-96c2e8252bac"
      },
      "execution_count": null,
      "outputs": [
        {
          "output_type": "stream",
          "name": "stdout",
          "text": [
            "Epoch 1/15\n",
            "196/196 - 5s - loss: 0.5269 - accuracy: 0.7019 - val_loss: 0.2890 - val_accuracy: 0.8804 - 5s/epoch - 24ms/step\n",
            "Epoch 2/15\n",
            "196/196 - 4s - loss: 0.2502 - accuracy: 0.9011 - val_loss: 0.2705 - val_accuracy: 0.8889 - 4s/epoch - 19ms/step\n",
            "Epoch 3/15\n",
            "196/196 - 4s - loss: 0.1943 - accuracy: 0.9245 - val_loss: 0.2819 - val_accuracy: 0.8843 - 4s/epoch - 19ms/step\n",
            "Epoch 4/15\n",
            "196/196 - 3s - loss: 0.1647 - accuracy: 0.9372 - val_loss: 0.3000 - val_accuracy: 0.8808 - 3s/epoch - 17ms/step\n",
            "Epoch 5/15\n",
            "196/196 - 4s - loss: 0.1363 - accuracy: 0.9493 - val_loss: 0.3206 - val_accuracy: 0.8774 - 4s/epoch - 19ms/step\n",
            "Epoch 6/15\n",
            "196/196 - 3s - loss: 0.1162 - accuracy: 0.9573 - val_loss: 0.3474 - val_accuracy: 0.8742 - 3s/epoch - 17ms/step\n",
            "Epoch 7/15\n",
            "196/196 - 4s - loss: 0.0933 - accuracy: 0.9677 - val_loss: 0.3785 - val_accuracy: 0.8729 - 4s/epoch - 19ms/step\n",
            "Epoch 8/15\n",
            "196/196 - 4s - loss: 0.0762 - accuracy: 0.9731 - val_loss: 0.4141 - val_accuracy: 0.8703 - 4s/epoch - 19ms/step\n",
            "Epoch 9/15\n",
            "196/196 - 3s - loss: 0.0615 - accuracy: 0.9795 - val_loss: 0.4502 - val_accuracy: 0.8714 - 3s/epoch - 17ms/step\n",
            "Epoch 10/15\n",
            "196/196 - 3s - loss: 0.0500 - accuracy: 0.9830 - val_loss: 0.4875 - val_accuracy: 0.8663 - 3s/epoch - 17ms/step\n",
            "Epoch 11/15\n",
            "196/196 - 3s - loss: 0.0381 - accuracy: 0.9884 - val_loss: 0.5206 - val_accuracy: 0.8680 - 3s/epoch - 17ms/step\n",
            "Epoch 12/15\n",
            "196/196 - 3s - loss: 0.0339 - accuracy: 0.9886 - val_loss: 0.5594 - val_accuracy: 0.8668 - 3s/epoch - 17ms/step\n",
            "Epoch 13/15\n",
            "196/196 - 4s - loss: 0.0292 - accuracy: 0.9909 - val_loss: 0.5856 - val_accuracy: 0.8650 - 4s/epoch - 19ms/step\n",
            "Epoch 14/15\n",
            "196/196 - 4s - loss: 0.0268 - accuracy: 0.9918 - val_loss: 0.6158 - val_accuracy: 0.8654 - 4s/epoch - 19ms/step\n",
            "Epoch 15/15\n",
            "196/196 - 3s - loss: 0.0247 - accuracy: 0.9921 - val_loss: 0.6328 - val_accuracy: 0.8654 - 3s/epoch - 17ms/step\n"
          ]
        }
      ]
    },
    {
      "cell_type": "code",
      "metadata": {
        "id": "NTDyjHWx3zxS",
        "colab": {
          "base_uri": "https://localhost:8080/"
        },
        "outputId": "8d5050e2-12b5-4469-8d2b-84bb6ddf72ce"
      },
      "source": [
        "scores = model3.evaluate(X_test,y_test)\n",
        "\n",
        "print(\"Accuracy: %.2f%%\" % (scores[1]*100))"
      ],
      "execution_count": null,
      "outputs": [
        {
          "output_type": "stream",
          "name": "stdout",
          "text": [
            "782/782 [==============================] - 3s 4ms/step - loss: 0.6328 - accuracy: 0.8654\n",
            "Accuracy: 86.54%\n"
          ]
        }
      ]
    },
    {
      "cell_type": "markdown",
      "source": [
        "##Observations:##\n",
        "1. Embedding layer improves both the training and test accuracy significantly as have observed in both experiments.\n",
        "1. The CNN model (Model 3), similar to the feedforward neural network in Model 2, is stubborndly overfitted despite several attempts at dropouts and #neurons!!"
      ],
      "metadata": {
        "id": "ovk_sYtS081v"
      }
    },
    {
      "cell_type": "markdown",
      "metadata": {
        "id": "xQl0PTih32hh"
      },
      "source": [
        "#Simple RNN"
      ]
    },
    {
      "cell_type": "markdown",
      "metadata": {
        "id": "x7gr11946MNz"
      },
      "source": [
        "- Embedding layer: `embedding_dim = 100`\n",
        "\n",
        "- SimpleRNN layer: `units = 100`\n",
        "\n",
        "- Ouput layer"
      ]
    },
    {
      "cell_type": "code",
      "source": [
        "embedding_dim = 100"
      ],
      "metadata": {
        "id": "IP8KsN3dvvxA"
      },
      "execution_count": null,
      "outputs": []
    },
    {
      "cell_type": "code",
      "source": [
        "from keras import initializers"
      ],
      "metadata": {
        "id": "2OvBqmd572--"
      },
      "execution_count": 7,
      "outputs": []
    },
    {
      "cell_type": "code",
      "metadata": {
        "id": "OGs62yz636_8",
        "colab": {
          "base_uri": "https://localhost:8080/"
        },
        "outputId": "94076c4a-6c73-415e-8936-e65686c42b4a"
      },
      "source": [
        "model4 = Sequential()\n",
        "\n",
        "model4.add(Embedding(input_dim=vocabulary_size, output_dim=embedding_dim, input_length = max_review_length))\n",
        "model4.add(SimpleRNN(5, \n",
        "                    kernel_initializer=initializers.RandomNormal(stddev=0.001), \n",
        "                    recurrent_initializer=initializers.Identity(gain=1.0),\n",
        "                     activation='relu',\n",
        "                     input_length=len(X_train[0])))\n",
        "model4.add(Dense(1, activation='sigmoid'))\n",
        "\n",
        "print(model4.summary())"
      ],
      "execution_count": null,
      "outputs": [
        {
          "output_type": "stream",
          "name": "stdout",
          "text": [
            "Model: \"sequential_22\"\n",
            "_________________________________________________________________\n",
            " Layer (type)                Output Shape              Param #   \n",
            "=================================================================\n",
            " embedding_17 (Embedding)    (None, 500, 100)          500000    \n",
            "                                                                 \n",
            " simple_rnn_1 (SimpleRNN)    (None, 5)                 530       \n",
            "                                                                 \n",
            " dense_35 (Dense)            (None, 1)                 6         \n",
            "                                                                 \n",
            "=================================================================\n",
            "Total params: 500,536\n",
            "Trainable params: 500,536\n",
            "Non-trainable params: 0\n",
            "_________________________________________________________________\n",
            "None\n"
          ]
        }
      ]
    },
    {
      "cell_type": "code",
      "source": [
        "model4.compile(optimizer='adam', loss='binary_crossentropy', metrics=['accuracy'])"
      ],
      "metadata": {
        "id": "kZynTaMfwQyO"
      },
      "execution_count": null,
      "outputs": []
    },
    {
      "cell_type": "code",
      "source": [
        "history4=model4.fit(X_train, y_train, epochs = 5, validation_data=(X_test, y_test), batch_size = 32, verbose = 2)"
      ],
      "metadata": {
        "colab": {
          "base_uri": "https://localhost:8080/"
        },
        "id": "X_lyh7a1wV1I",
        "outputId": "5a5e3e3c-9942-49bc-ec51-4b97c5b16cc1"
      },
      "execution_count": null,
      "outputs": [
        {
          "output_type": "stream",
          "name": "stdout",
          "text": [
            "Epoch 1/5\n",
            "782/782 - 551s - loss: 0.4376 - accuracy: 0.8008 - val_loss: 0.2925 - val_accuracy: 0.8779 - 551s/epoch - 704ms/step\n",
            "Epoch 2/5\n",
            "782/782 - 552s - loss: 0.2436 - accuracy: 0.9021 - val_loss: 0.2901 - val_accuracy: 0.8809 - 552s/epoch - 706ms/step\n",
            "Epoch 3/5\n",
            "782/782 - 558s - loss: 0.2072 - accuracy: 0.9204 - val_loss: 0.2929 - val_accuracy: 0.8753 - 558s/epoch - 714ms/step\n",
            "Epoch 4/5\n",
            "782/782 - 554s - loss: 0.1862 - accuracy: 0.9280 - val_loss: 0.3328 - val_accuracy: 0.8752 - 554s/epoch - 708ms/step\n",
            "Epoch 5/5\n",
            "782/782 - 558s - loss: 0.1671 - accuracy: 0.9350 - val_loss: 0.3630 - val_accuracy: 0.8605 - 558s/epoch - 713ms/step\n"
          ]
        }
      ]
    },
    {
      "cell_type": "code",
      "metadata": {
        "id": "Nc6SPbYy48ZU",
        "colab": {
          "base_uri": "https://localhost:8080/"
        },
        "outputId": "18d8498e-12eb-4336-a47a-d5998476229a"
      },
      "source": [
        "scores = model4.evaluate(X_test,y_test)\n",
        "\n",
        "print(\"Accuracy: %.2f%%\" % (scores[1]*100))"
      ],
      "execution_count": null,
      "outputs": [
        {
          "output_type": "stream",
          "name": "stdout",
          "text": [
            "782/782 [==============================] - 47s 60ms/step - loss: 0.3630 - accuracy: 0.8605\n",
            "Accuracy: 86.05%\n"
          ]
        }
      ]
    },
    {
      "cell_type": "code",
      "source": [
        "import matplotlib.pyplot as plt"
      ],
      "metadata": {
        "id": "wILkYyJdHk7e"
      },
      "execution_count": 33,
      "outputs": []
    },
    {
      "cell_type": "code",
      "source": [
        "plt.figure(figsize = (16.0, 7.0))\n",
        "plt.subplot(1, 2, 1)\n",
        "plt.plot(history4.history['accuracy'], label = \"Training set\")\n",
        "plt.plot(history4.history['val_accuracy'], label = \"Validation set\")\n",
        "plt.xlabel('Epoch(s)')\n",
        "plt.ylabel('Accuracy')\n",
        "plt.legend()\n",
        "plt.grid()\n",
        "\n",
        "plt.subplot(1, 2, 2)\n",
        "#plt.semilogy(history.history[\"loss\"])\n",
        "plt.plot(history4.history['loss'], label = \"Training set\")\n",
        "plt.plot(history4.history['val_loss'], label = \"Validation set\")\n",
        "plt.xlabel('Epoch(s)')\n",
        "plt.ylabel('Loss function')\n",
        "plt.grid()"
      ],
      "metadata": {
        "colab": {
          "base_uri": "https://localhost:8080/",
          "height": 445
        },
        "id": "veMuYjfCHX6L",
        "outputId": "9a85a765-41b9-4b31-91cf-2752309cb5c1"
      },
      "execution_count": null,
      "outputs": [
        {
          "output_type": "display_data",
          "data": {
            "image/png": "[encoded data removed]",
            "text/plain": [
              "<Figure size 1152x504 with 2 Axes>"
            ]
          },
          "metadata": {
            "needs_background": "light"
          }
        }
      ]
    },
    {
      "cell_type": "markdown",
      "source": [
        "##Observations##\n",
        "1. Reducing the number of hidden units in RNN have reduced the overfitting but the rate of overfitting is far from over! \n",
        "   -   Falling validation accuracy after 1 epoch\n",
        "   -   Rising validation loss after 2 epochs\n",
        "2. Additional regularization tools such as dropouts and reducing embedding_dim should be considered.\n"
      ],
      "metadata": {
        "id": "I-pvma-rHsPk"
      }
    },
    {
      "cell_type": "markdown",
      "metadata": {
        "id": "GJbVHn4y4Eiq"
      },
      "source": [
        "#LSTM\n",
        "\n",
        "- Embedding layer: `embedding_dim = 100`\n",
        "\n",
        "- LSTM layer: `units = 100`\n",
        "\n",
        "- Ouput layer"
      ]
    },
    {
      "cell_type": "code",
      "source": [
        "embedding_dim = 50 "
      ],
      "metadata": {
        "id": "Tal3o_FTwrl2"
      },
      "execution_count": null,
      "outputs": []
    },
    {
      "cell_type": "code",
      "metadata": {
        "id": "5q9nQMh54FG2",
        "colab": {
          "base_uri": "https://localhost:8080/"
        },
        "outputId": "b911d9e2-01df-4601-bf7b-0f4cba14ae86"
      },
      "source": [
        "model5 = Sequential()\n",
        "\n",
        "model5.add(Embedding(vocabulary_size, embedding_dim, input_length = max_review_length))\n",
        "model5.add(LSTM(50, activation='relu', recurrent_dropout=0.5))\n",
        "model5.add(Dense(1, activation='sigmoid'))\n",
        "\n",
        "\n",
        "print(model5.summary())"
      ],
      "execution_count": null,
      "outputs": [
        {
          "output_type": "stream",
          "name": "stdout",
          "text": [
            "WARNING:tensorflow:Layer lstm will not use cuDNN kernels since it doesn't meet the criteria. It will use a generic GPU kernel as fallback when running on GPU.\n",
            "Model: \"sequential_23\"\n",
            "_________________________________________________________________\n",
            " Layer (type)                Output Shape              Param #   \n",
            "=================================================================\n",
            " embedding_18 (Embedding)    (None, 500, 50)           250000    \n",
            "                                                                 \n",
            " lstm (LSTM)                 (None, 50)                20200     \n",
            "                                                                 \n",
            " dense_36 (Dense)            (None, 1)                 51        \n",
            "                                                                 \n",
            "=================================================================\n",
            "Total params: 270,251\n",
            "Trainable params: 270,251\n",
            "Non-trainable params: 0\n",
            "_________________________________________________________________\n",
            "None\n"
          ]
        }
      ]
    },
    {
      "cell_type": "code",
      "metadata": {
        "id": "3K88-3XX5Bf0"
      },
      "source": [
        "model5.compile(optimizer='adam', loss='binary_crossentropy', metrics=['accuracy'])\n",
        "\n"
      ],
      "execution_count": null,
      "outputs": []
    },
    {
      "cell_type": "code",
      "source": [
        "history5=model5.fit(X_train, y_train, epochs = 3, validation_data=(X_test, y_test), batch_size = 128, verbose = 2)\n"
      ],
      "metadata": {
        "colab": {
          "base_uri": "https://localhost:8080/"
        },
        "id": "3LorW02fxWn1",
        "outputId": "be7f2be0-c036-421c-f8ae-5b6e4dbb9bc6"
      },
      "execution_count": null,
      "outputs": [
        {
          "output_type": "stream",
          "name": "stdout",
          "text": [
            "Epoch 1/3\n",
            "196/196 - 517s - loss: 42455136.0000 - accuracy: 0.6487 - val_loss: 0.6167 - val_accuracy: 0.7072 - 517s/epoch - 3s/step\n",
            "Epoch 2/3\n",
            "196/196 - 513s - loss: 0.5975 - accuracy: 0.7228 - val_loss: 0.6239 - val_accuracy: 0.6028 - 513s/epoch - 3s/step\n",
            "Epoch 3/3\n",
            "196/196 - 512s - loss: 0.5853 - accuracy: 0.7042 - val_loss: 0.5814 - val_accuracy: 0.7164 - 512s/epoch - 3s/step\n"
          ]
        }
      ]
    },
    {
      "cell_type": "code",
      "source": [
        "scores = model5.evaluate(X_test,y_test)\n",
        "print(\"Accuracy: %.2f%%\" % (scores[1]*100))"
      ],
      "metadata": {
        "colab": {
          "base_uri": "https://localhost:8080/"
        },
        "id": "43qbxTULxgCB",
        "outputId": "ea083af0-c87a-4177-9c05-599438838d4c"
      },
      "execution_count": null,
      "outputs": [
        {
          "output_type": "stream",
          "name": "stdout",
          "text": [
            "782/782 [==============================] - 142s 182ms/step - loss: 0.5814 - accuracy: 0.7164\n",
            "Accuracy: 71.64%\n"
          ]
        }
      ]
    },
    {
      "cell_type": "markdown",
      "metadata": {
        "id": "tRJO26PT4Thy"
      },
      "source": [
        "#CNN + LSTM\n",
        "\n",
        "- Embedding layer: `embedding_dim = 100`\n",
        "\n",
        "- Conv1D: 200 filter, kernel size 3, same padding\n",
        "\n",
        "- MaxPooling layer: pooling size 2\n",
        "\n",
        "- LSTM layer: `units = 100`\n",
        "\n",
        "\n",
        "- Ouput layer"
      ]
    },
    {
      "cell_type": "code",
      "source": [
        "embedding_dim = 100"
      ],
      "metadata": {
        "id": "cPg6FDqlxspp"
      },
      "execution_count": 8,
      "outputs": []
    },
    {
      "cell_type": "code",
      "metadata": {
        "colab": {
          "base_uri": "https://localhost:8080/"
        },
        "id": "IZ4R72UQxspp",
        "outputId": "8d9de76f-f492-456f-8220-056abe6d0366"
      },
      "source": [
        "model6 = Sequential()\n",
        "\n",
        "model6.add(Embedding(vocabulary_size, embedding_dim, input_length = max_review_length))\n",
        "model6.add(Conv1D(200, kernel_size=3, activation='relu', padding='same'))\n",
        "model6.add(MaxPooling1D(pool_size=2))\n",
        "model6.add(LSTM(100, activation='relu'))\n",
        "model6.add(Dense(1, activation='sigmoid'))\n",
        "\n",
        "\n",
        "print(model6.summary())"
      ],
      "execution_count": null,
      "outputs": [
        {
          "output_type": "stream",
          "name": "stdout",
          "text": [
            "WARNING:tensorflow:Layer lstm will not use cuDNN kernels since it doesn't meet the criteria. It will use a generic GPU kernel as fallback when running on GPU.\n",
            "Model: \"sequential\"\n",
            "_________________________________________________________________\n",
            " Layer (type)                Output Shape              Param #   \n",
            "=================================================================\n",
            " embedding (Embedding)       (None, 30, 100)           1000000   \n",
            "                                                                 \n",
            " conv1d (Conv1D)             (None, 30, 200)           60200     \n",
            "                                                                 \n",
            " max_pooling1d (MaxPooling1D  (None, 15, 200)          0         \n",
            " )                                                               \n",
            "                                                                 \n",
            " lstm (LSTM)                 (None, 100)               120400    \n",
            "                                                                 \n",
            " flatten (Flatten)           (None, 100)               0         \n",
            "                                                                 \n",
            " dense (Dense)               (None, 1)                 101       \n",
            "                                                                 \n",
            "=================================================================\n",
            "Total params: 1,180,701\n",
            "Trainable params: 1,180,701\n",
            "Non-trainable params: 0\n",
            "_________________________________________________________________\n",
            "None\n"
          ]
        }
      ]
    },
    {
      "cell_type": "code",
      "metadata": {
        "id": "yxXjyy8bxspp"
      },
      "source": [
        "model6.compile(optimizer='rmsprop', loss='binary_crossentropy', metrics=['accuracy'])\n",
        "\n"
      ],
      "execution_count": null,
      "outputs": []
    },
    {
      "cell_type": "code",
      "source": [
        "history6=model6.fit(X_train, y_train, epochs = 3, validation_data=(X_test, y_test), batch_size = 64, verbose = 2)\n"
      ],
      "metadata": {
        "colab": {
          "base_uri": "https://localhost:8080/"
        },
        "id": "Pcb8ZSF5xspp",
        "outputId": "716b6137-685f-4ca0-de0d-5c86559ce66d"
      },
      "execution_count": null,
      "outputs": [
        {
          "output_type": "stream",
          "name": "stdout",
          "text": [
            "Epoch 1/3\n",
            "391/391 - 25s - loss: 0.5054 - accuracy: 0.7452 - val_loss: 0.4286 - val_accuracy: 0.7993 - 25s/epoch - 64ms/step\n",
            "Epoch 2/3\n",
            "391/391 - 21s - loss: 0.3871 - accuracy: 0.8234 - val_loss: 0.4474 - val_accuracy: 0.7930 - 21s/epoch - 55ms/step\n",
            "Epoch 3/3\n",
            "391/391 - 21s - loss: 0.3426 - accuracy: 0.8476 - val_loss: 0.6171 - val_accuracy: 0.7412 - 21s/epoch - 54ms/step\n"
          ]
        }
      ]
    },
    {
      "cell_type": "code",
      "source": [
        "scores = model6.evaluate(X_test,y_test)\n",
        "print(\"Accuracy: %.2f%%\" % (scores[1]*100))"
      ],
      "metadata": {
        "colab": {
          "base_uri": "https://localhost:8080/"
        },
        "id": "ozekSDbqxspq",
        "outputId": "4d4af461-f269-4fb2-8f96-50f0fa6bb891"
      },
      "execution_count": null,
      "outputs": [
        {
          "output_type": "stream",
          "name": "stdout",
          "text": [
            "782/782 [==============================] - 6s 7ms/step - loss: 0.6171 - accuracy: 0.7412\n",
            "Accuracy: 74.12%\n"
          ]
        }
      ]
    },
    {
      "cell_type": "code",
      "source": [
        "from keras.layers import Activation\n",
        "from keras.layers import CuDNNLSTM"
      ],
      "metadata": {
        "id": "0w_pikzBCsZ5"
      },
      "execution_count": 21,
      "outputs": []
    },
    {
      "cell_type": "markdown",
      "source": [
        "#Model6 using CuDNN LSTM to improve speed of execution!!#"
      ],
      "metadata": {
        "id": "fmvx3y-SGMEt"
      }
    },
    {
      "cell_type": "code",
      "metadata": {
        "colab": {
          "base_uri": "https://localhost:8080/"
        },
        "outputId": "e91dd181-23b7-4da0-8131-d38577018049",
        "id": "S95hIxSJGKIO"
      },
      "source": [
        "model6 = Sequential()\n",
        "\n",
        "model6.add(Embedding(vocabulary_size, embedding_dim, input_length = max_review_length))\n",
        "model6.add(Conv1D(200, kernel_size=3, activation='relu', padding='same'))\n",
        "model6.add(MaxPooling1D(pool_size=2))\n",
        "model6.add(CuDNNLSTM(100))\n",
        "model6.add(Activation('relu'))\n",
        "model6.add(Dense(1, activation='sigmoid'))\n",
        "\n",
        "\n",
        "print(model6.summary())"
      ],
      "execution_count": 27,
      "outputs": [
        {
          "output_type": "stream",
          "name": "stdout",
          "text": [
            "Model: \"sequential_8\"\n",
            "_________________________________________________________________\n",
            " Layer (type)                Output Shape              Param #   \n",
            "=================================================================\n",
            " embedding_8 (Embedding)     (None, 500, 100)          500000    \n",
            "                                                                 \n",
            " conv1d_8 (Conv1D)           (None, 500, 200)          60200     \n",
            "                                                                 \n",
            " max_pooling1d_6 (MaxPooling  (None, 250, 200)         0         \n",
            " 1D)                                                             \n",
            "                                                                 \n",
            " cu_dnnlstm_1 (CuDNNLSTM)    (None, 100)               120800    \n",
            "                                                                 \n",
            " activation_4 (Activation)   (None, 100)               0         \n",
            "                                                                 \n",
            " dense_5 (Dense)             (None, 1)                 101       \n",
            "                                                                 \n",
            "=================================================================\n",
            "Total params: 681,101\n",
            "Trainable params: 681,101\n",
            "Non-trainable params: 0\n",
            "_________________________________________________________________\n",
            "None\n"
          ]
        }
      ]
    },
    {
      "cell_type": "code",
      "metadata": {
        "id": "cyMpMR_lGKIQ"
      },
      "source": [
        "model6.compile(optimizer='rmsprop', loss='binary_crossentropy', metrics=['accuracy'])\n",
        "\n"
      ],
      "execution_count": 28,
      "outputs": []
    },
    {
      "cell_type": "code",
      "source": [
        "history6=model6.fit(X_train, y_train, epochs = 3, validation_data=(X_test, y_test), batch_size = 64, verbose = 1)\n"
      ],
      "metadata": {
        "colab": {
          "base_uri": "https://localhost:8080/"
        },
        "outputId": "f460e835-ecfb-4453-edcd-a1ff07095797",
        "id": "_pyBpCJNGKIR"
      },
      "execution_count": 29,
      "outputs": [
        {
          "output_type": "stream",
          "name": "stdout",
          "text": [
            "Epoch 1/3\n",
            "391/391 [==============================] - 34s 82ms/step - loss: 0.4275 - accuracy: 0.8003 - val_loss: 0.3024 - val_accuracy: 0.8716\n",
            "Epoch 2/3\n",
            "391/391 [==============================] - 32s 83ms/step - loss: 0.2759 - accuracy: 0.8892 - val_loss: 0.3643 - val_accuracy: 0.8425\n",
            "Epoch 3/3\n",
            "391/391 [==============================] - 32s 82ms/step - loss: 0.2311 - accuracy: 0.9097 - val_loss: 0.2779 - val_accuracy: 0.8848\n"
          ]
        }
      ]
    },
    {
      "cell_type": "code",
      "source": [
        "history6cont=model6.fit(X_train, y_train, epochs = 5, validation_data=(X_test, y_test), batch_size = 64, verbose = 1)"
      ],
      "metadata": {
        "colab": {
          "base_uri": "https://localhost:8080/"
        },
        "id": "6cGT9WrFHOIB",
        "outputId": "3b26eff1-8d9b-4f1f-f35b-4592809d267e"
      },
      "execution_count": 30,
      "outputs": [
        {
          "output_type": "stream",
          "name": "stdout",
          "text": [
            "Epoch 1/5\n",
            "391/391 [==============================] - 33s 83ms/step - loss: 0.2004 - accuracy: 0.9240 - val_loss: 0.2820 - val_accuracy: 0.8910\n",
            "Epoch 2/5\n",
            "391/391 [==============================] - 32s 81ms/step - loss: 0.1749 - accuracy: 0.9343 - val_loss: 0.2999 - val_accuracy: 0.8879\n",
            "Epoch 3/5\n",
            "391/391 [==============================] - 32s 83ms/step - loss: 0.1539 - accuracy: 0.9440 - val_loss: 0.3774 - val_accuracy: 0.8686\n",
            "Epoch 4/5\n",
            "391/391 [==============================] - 33s 83ms/step - loss: 0.1287 - accuracy: 0.9539 - val_loss: 0.3393 - val_accuracy: 0.8720\n",
            "Epoch 5/5\n",
            "391/391 [==============================] - 33s 84ms/step - loss: 0.1101 - accuracy: 0.9620 - val_loss: 0.3233 - val_accuracy: 0.8882\n"
          ]
        }
      ]
    },
    {
      "cell_type": "markdown",
      "source": [
        "**Combine the 2 sessions of model 6**"
      ],
      "metadata": {
        "id": "PWNZJWr-KepD"
      }
    },
    {
      "cell_type": "code",
      "source": [
        "history6_comb = {key:history6.history[key]+history6cont.history[key] for key in history6.history}"
      ],
      "metadata": {
        "id": "3XAUZLw5Huuf"
      },
      "execution_count": 32,
      "outputs": []
    },
    {
      "cell_type": "code",
      "source": [
        "plt.figure(figsize = (16.0, 7.0))\n",
        "plt.subplot(1, 2, 1)\n",
        "plt.plot(history6_comb['accuracy'], label = \"Training set\")\n",
        "plt.plot(history6_comb['val_accuracy'], label = \"Validation set\")\n",
        "plt.xlabel('Epoch(s)')\n",
        "plt.ylabel('Accuracy')\n",
        "plt.title('Accuracy')\n",
        "plt.legend()\n",
        "plt.grid()\n",
        "\n",
        "plt.subplot(1, 2, 2)\n",
        "#plt.semilogy(history.history[\"loss\"])\n",
        "plt.plot(history6_comb['loss'], label = \"Training set\")\n",
        "plt.plot(history6_comb['val_loss'], label = \"Validation set\")\n",
        "plt.title('Loss')\n",
        "plt.xlabel('Epoch(s)')\n",
        "plt.ylabel('Loss function')\n",
        "plt.grid()"
      ],
      "metadata": {
        "colab": {
          "base_uri": "https://localhost:8080/",
          "height": 458
        },
        "id": "HAQS2B6wISMl",
        "outputId": "5746958b-5059-4a49-bd6f-f1eab1a5b19f"
      },
      "execution_count": 36,
      "outputs": [
        {
          "output_type": "display_data",
          "data": {
            "image/png": "[encoded data removed]",
            "text/plain": [
              "<Figure size 1152x504 with 2 Axes>"
            ]
          },
          "metadata": {
            "needs_background": "light"
          }
        }
      ]
    },
    {
      "cell_type": "markdown",
      "source": [
        "#Model7#"
      ],
      "metadata": {
        "id": "Pv-eMEEwIrmW"
      }
    },
    {
      "cell_type": "code",
      "source": [
        "model7 = Sequential()\n",
        "\n",
        "model7.add(Embedding(vocabulary_size, embedding_dim, input_length = max_review_length))\n",
        "model7.add(Conv1D(200, kernel_size=3, activation='relu', padding='same'))\n",
        "model7.add(MaxPooling1D(pool_size=2))\n",
        "model7.add(CuDNNLSTM(100))\n",
        "model7.add(Activation('relu'))\n",
        "model7.add(Dropout(0.5))\n",
        "model7.add(Dense(1, activation='sigmoid'))\n",
        "\n",
        "\n",
        "print(model7.summary())"
      ],
      "metadata": {
        "colab": {
          "base_uri": "https://localhost:8080/"
        },
        "id": "FZO3RNj1Iq93",
        "outputId": "0766baa2-48e5-4008-f581-3b7751eb6330"
      },
      "execution_count": 42,
      "outputs": [
        {
          "output_type": "stream",
          "name": "stdout",
          "text": [
            "Model: \"sequential_12\"\n",
            "_________________________________________________________________\n",
            " Layer (type)                Output Shape              Param #   \n",
            "=================================================================\n",
            " embedding_12 (Embedding)    (None, 500, 100)          500000    \n",
            "                                                                 \n",
            " conv1d_12 (Conv1D)          (None, 500, 200)          60200     \n",
            "                                                                 \n",
            " max_pooling1d_10 (MaxPoolin  (None, 250, 200)         0         \n",
            " g1D)                                                            \n",
            "                                                                 \n",
            " cu_dnnlstm_3 (CuDNNLSTM)    (None, 100)               120800    \n",
            "                                                                 \n",
            " activation_6 (Activation)   (None, 100)               0         \n",
            "                                                                 \n",
            " dropout_1 (Dropout)         (None, 100)               0         \n",
            "                                                                 \n",
            " dense_6 (Dense)             (None, 1)                 101       \n",
            "                                                                 \n",
            "=================================================================\n",
            "Total params: 681,101\n",
            "Trainable params: 681,101\n",
            "Non-trainable params: 0\n",
            "_________________________________________________________________\n",
            "None\n"
          ]
        }
      ]
    },
    {
      "cell_type": "code",
      "metadata": {
        "id": "MBvcp5WwJ1yv"
      },
      "source": [
        "model7.compile(optimizer='rmsprop', loss='binary_crossentropy', metrics=['accuracy'])\n",
        "\n"
      ],
      "execution_count": 43,
      "outputs": []
    },
    {
      "cell_type": "code",
      "source": [
        "history7=model7.fit(X_train, y_train, epochs = 3, validation_data=(X_test, y_test), batch_size = 64, verbose = 1)\n"
      ],
      "metadata": {
        "colab": {
          "base_uri": "https://localhost:8080/"
        },
        "outputId": "c351c6e8-9ce8-49fa-c53c-9d509ae35228",
        "id": "Mn4htf85J1yw"
      },
      "execution_count": 45,
      "outputs": [
        {
          "output_type": "stream",
          "name": "stdout",
          "text": [
            "Epoch 1/3\n",
            "391/391 [==============================] - 34s 83ms/step - loss: 0.4497 - accuracy: 0.7840 - val_loss: 0.3010 - val_accuracy: 0.8720\n",
            "Epoch 2/3\n",
            "391/391 [==============================] - 32s 83ms/step - loss: 0.2832 - accuracy: 0.8902 - val_loss: 0.3324 - val_accuracy: 0.8543\n",
            "Epoch 3/3\n",
            "391/391 [==============================] - 32s 81ms/step - loss: 0.2343 - accuracy: 0.9108 - val_loss: 0.3054 - val_accuracy: 0.8827\n"
          ]
        }
      ]
    }
  ]
}