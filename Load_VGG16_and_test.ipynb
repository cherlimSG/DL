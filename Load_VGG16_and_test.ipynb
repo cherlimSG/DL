{
  "nbformat": 4,
  "nbformat_minor": 0,
  "metadata": {
    "colab": {
      "name": "Cher Eng Lim - Load_VGG16_and_test.ipynb",
      "provenance": [],
      "collapsed_sections": []
    },
    "kernelspec": {
      "name": "python3",
      "display_name": "Python 3"
    }
  },
  "cells": [
    {
      "cell_type": "code",
      "metadata": {
        "id": "_lQ17c2CxsDP",
        "colab": {
          "base_uri": "https://localhost:8080/"
        },
        "outputId": "c8b6cef5-0cb4-4f9c-ce8a-592d0ac44957"
      },
      "source": [
        "from google.colab import drive\n",
        "drive.mount('/content/drive')"
      ],
      "execution_count": null,
      "outputs": [
        {
          "output_type": "stream",
          "name": "stdout",
          "text": [
            "Mounted at /content/drive\n"
          ]
        }
      ]
    },
    {
      "cell_type": "code",
      "metadata": {
        "colab": {
          "base_uri": "https://localhost:8080/"
        },
        "id": "pUzA_7fbWOjI",
        "outputId": "da609ad0-63b5-4408-f63b-468232c8f237"
      },
      "source": [
        "%cd '/content/drive/MyDrive/L5'"
      ],
      "execution_count": null,
      "outputs": [
        {
          "output_type": "stream",
          "name": "stdout",
          "text": [
            "/content/drive/MyDrive/L5\n"
          ]
        }
      ]
    },
    {
      "cell_type": "code",
      "metadata": {
        "colab": {
          "base_uri": "https://localhost:8080/"
        },
        "id": "uJ-lEgtDWaVz",
        "outputId": "e653ad1d-c01d-4278-93a6-ecfda1ab47b5"
      },
      "source": [
        "%ls"
      ],
      "execution_count": null,
      "outputs": [
        {
          "output_type": "stream",
          "name": "stdout",
          "text": [
            "'Cher Eng Lim - pic1.jpg'  'Cher Eng Lim - test_image.jpeg'\n"
          ]
        }
      ]
    },
    {
      "cell_type": "code",
      "metadata": {
        "id": "_9wJbE-RxxIN",
        "colab": {
          "base_uri": "https://localhost:8080/"
        },
        "outputId": "0ba480c3-5000-452d-d45e-19d3e83b03ac"
      },
      "source": [
        "#%cd '/content/drive/MyDrive/SDAIE/Deep Learning - October 2021/03_Coding Assignments/Week05_Load VGG16/'\n",
        "#%ls"
      ],
      "execution_count": null,
      "outputs": [
        {
          "output_type": "stream",
          "name": "stdout",
          "text": [
            "/content/drive/MyDrive/SDAIE/Deep Learning - October 2021/03_Coding Assignments/Week05_Load VGG16\n",
            "Load_VGG16_and_test.ipynb  Load_VGG16_and_test_SOLUTION.ipynb  test_image.jpeg\n"
          ]
        }
      ]
    },
    {
      "cell_type": "markdown",
      "metadata": {
        "id": "a8LjMbY-CeoH"
      },
      "source": [
        "#Import nessessary libraries"
      ]
    },
    {
      "cell_type": "code",
      "metadata": {
        "id": "DFLehvVcw4Qg"
      },
      "source": [
        "import numpy as np\n",
        "from tensorflow.keras.preprocessing import image\n",
        "from tensorflow.keras.applications.imagenet_utils import decode_predictions\n",
        "from tensorflow.keras.applications.vgg16 import VGG16"
      ],
      "execution_count": null,
      "outputs": []
    },
    {
      "cell_type": "markdown",
      "metadata": {
        "id": "ytjG2sUFZew5"
      },
      "source": [
        "#How many models are available?\n",
        "\n",
        "Go to this link: https://www.tensorflow.org/api_docs/python/tf/keras/applications"
      ]
    },
    {
      "cell_type": "markdown",
      "metadata": {
        "id": "JI8hVr_3C3rB"
      },
      "source": [
        "#VGG16 pre-trained network\n",
        "\n",
        "Refer to this link [link](https://keras.io/api/applications/vgg/#vgg16-function). When loading VGG16, you can just ignore all parameters except setting `weights = 'imagenet'`.\n",
        "\n",
        "`tf.keras.applications.VGG16(`\n",
        "    `include_top=True,\n",
        "    weights=\"imagenet\",\n",
        "    input_tensor=None,\n",
        "    input_shape=None,\n",
        "    pooling=None,\n",
        "    classes=1000,\n",
        "    classifier_activation=\"softmax\",)`\n"
      ]
    },
    {
      "cell_type": "code",
      "metadata": {
        "id": "hKxahhlnxAW7"
      },
      "source": [
        "# Initialize the model with pre-trained weights\n",
        "model = VGG16()"
      ],
      "execution_count": null,
      "outputs": []
    },
    {
      "cell_type": "markdown",
      "metadata": {
        "id": "MIarjoc8V_nh"
      },
      "source": [
        "Use `....summary()` and `....layers` to anwer the following questions:\n"
      ]
    },
    {
      "cell_type": "code",
      "metadata": {
        "colab": {
          "base_uri": "https://localhost:8080/"
        },
        "id": "Azd2oVm7ZC2b",
        "outputId": "0aee7484-d375-446c-c856-0050c2d4bbbd"
      },
      "source": [
        "model.summary()"
      ],
      "execution_count": null,
      "outputs": [
        {
          "output_type": "stream",
          "name": "stdout",
          "text": [
            "Model: \"vgg16\"\n",
            "_________________________________________________________________\n",
            " Layer (type)                Output Shape              Param #   \n",
            "=================================================================\n",
            " input_2 (InputLayer)        [(None, 224, 224, 3)]     0         \n",
            "                                                                 \n",
            " block1_conv1 (Conv2D)       (None, 224, 224, 64)      1792      \n",
            "                                                                 \n",
            " block1_conv2 (Conv2D)       (None, 224, 224, 64)      36928     \n",
            "                                                                 \n",
            " block1_pool (MaxPooling2D)  (None, 112, 112, 64)      0         \n",
            "                                                                 \n",
            " block2_conv1 (Conv2D)       (None, 112, 112, 128)     73856     \n",
            "                                                                 \n",
            " block2_conv2 (Conv2D)       (None, 112, 112, 128)     147584    \n",
            "                                                                 \n",
            " block2_pool (MaxPooling2D)  (None, 56, 56, 128)       0         \n",
            "                                                                 \n",
            " block3_conv1 (Conv2D)       (None, 56, 56, 256)       295168    \n",
            "                                                                 \n",
            " block3_conv2 (Conv2D)       (None, 56, 56, 256)       590080    \n",
            "                                                                 \n",
            " block3_conv3 (Conv2D)       (None, 56, 56, 256)       590080    \n",
            "                                                                 \n",
            " block3_pool (MaxPooling2D)  (None, 28, 28, 256)       0         \n",
            "                                                                 \n",
            " block4_conv1 (Conv2D)       (None, 28, 28, 512)       1180160   \n",
            "                                                                 \n",
            " block4_conv2 (Conv2D)       (None, 28, 28, 512)       2359808   \n",
            "                                                                 \n",
            " block4_conv3 (Conv2D)       (None, 28, 28, 512)       2359808   \n",
            "                                                                 \n",
            " block4_pool (MaxPooling2D)  (None, 14, 14, 512)       0         \n",
            "                                                                 \n",
            " block5_conv1 (Conv2D)       (None, 14, 14, 512)       2359808   \n",
            "                                                                 \n",
            " block5_conv2 (Conv2D)       (None, 14, 14, 512)       2359808   \n",
            "                                                                 \n",
            " block5_conv3 (Conv2D)       (None, 14, 14, 512)       2359808   \n",
            "                                                                 \n",
            " block5_pool (MaxPooling2D)  (None, 7, 7, 512)         0         \n",
            "                                                                 \n",
            " flatten (Flatten)           (None, 25088)             0         \n",
            "                                                                 \n",
            " fc1 (Dense)                 (None, 4096)              102764544 \n",
            "                                                                 \n",
            " fc2 (Dense)                 (None, 4096)              16781312  \n",
            "                                                                 \n",
            " predictions (Dense)         (None, 1000)              4097000   \n",
            "                                                                 \n",
            "=================================================================\n",
            "Total params: 138,357,544\n",
            "Trainable params: 138,357,544\n",
            "Non-trainable params: 0\n",
            "_________________________________________________________________\n"
          ]
        }
      ]
    },
    {
      "cell_type": "code",
      "metadata": {
        "colab": {
          "base_uri": "https://localhost:8080/"
        },
        "id": "SOfE67YRZK2K",
        "outputId": "5792677f-1b97-44a2-c193-7a1d04059568"
      },
      "source": [
        "len(model.layers)"
      ],
      "execution_count": null,
      "outputs": [
        {
          "output_type": "execute_result",
          "data": {
            "text/plain": [
              "23"
            ]
          },
          "metadata": {},
          "execution_count": 15
        }
      ]
    },
    {
      "cell_type": "markdown",
      "metadata": {
        "id": "ABlsujUCwfYB"
      },
      "source": [
        "###Q1: How many trainable parameters are there?\n",
        "Ans: <font color='red'>138357544</font>"
      ]
    },
    {
      "cell_type": "markdown",
      "metadata": {
        "id": "Wn0nfuSOwmc5"
      },
      "source": [
        "###Q2: How many layers are there? \n",
        "Ans: <font color='red'>23</font>"
      ]
    },
    {
      "cell_type": "markdown",
      "metadata": {
        "id": "0DcxHBAQwpt-"
      },
      "source": [
        "###Q3: What is the size of `InputLayer`? \n",
        "Ans: <font color='red'>224, 224, 3</font>"
      ]
    },
    {
      "cell_type": "markdown",
      "metadata": {
        "id": "F-c_VaPvwsvV"
      },
      "source": [
        "###Q4: What information does the last number of the answer of Q3 tell you? \n",
        "Ans: <font color='red'>image dimension: 224x224x3 (w, h, colors) </font>"
      ]
    },
    {
      "cell_type": "code",
      "metadata": {
        "id": "WMWGM7GfyCDx",
        "colab": {
          "base_uri": "https://localhost:8080/"
        },
        "outputId": "1d31cc2c-1564-4bd4-c117-810257054c4d"
      },
      "source": [
        "# Your code\n",
        "len(model.layers)"
      ],
      "execution_count": null,
      "outputs": [
        {
          "output_type": "execute_result",
          "data": {
            "text/plain": [
              "23"
            ]
          },
          "metadata": {},
          "execution_count": 16
        }
      ]
    },
    {
      "cell_type": "markdown",
      "metadata": {
        "id": "BWl-iXC0exnd"
      },
      "source": [
        "Get the number of layers in the network!"
      ]
    },
    {
      "cell_type": "code",
      "metadata": {
        "id": "oY2KQcu0VwLS",
        "colab": {
          "base_uri": "https://localhost:8080/"
        },
        "outputId": "874727d3-5fbc-4bee-9f21-3568b73c4b56"
      },
      "source": [
        "# Your code\n",
        "print('Number of layers = ', len(model.layers))"
      ],
      "execution_count": null,
      "outputs": [
        {
          "output_type": "stream",
          "name": "stdout",
          "text": [
            "Number of layers =  23\n"
          ]
        }
      ]
    },
    {
      "cell_type": "markdown",
      "metadata": {
        "id": "wUXIrbG5XgxZ"
      },
      "source": [
        "#Load an image and test"
      ]
    },
    {
      "cell_type": "markdown",
      "metadata": {
        "id": "OEkiIfzNW5JI"
      },
      "source": [
        "##Show and inspect the image"
      ]
    },
    {
      "cell_type": "markdown",
      "metadata": {
        "id": "BkleIafXac85"
      },
      "source": [
        "Display the image using `matplotlib`.\n",
        "Link for reference is [here](https://matplotlib.org/stable/tutorials/introductory/images.html?highlight=image%20tutorial)."
      ]
    },
    {
      "cell_type": "code",
      "metadata": {
        "id": "rr4RjishUw2Z"
      },
      "source": [
        "import matplotlib.pyplot as plt\n",
        "import matplotlib.image as mpimg"
      ],
      "execution_count": null,
      "outputs": []
    },
    {
      "cell_type": "code",
      "metadata": {
        "id": "8zJLmSAMZ-my",
        "colab": {
          "base_uri": "https://localhost:8080/",
          "height": 269
        },
        "outputId": "e8c74734-f223-4863-9f80-92786fd2adc6"
      },
      "source": [
        "# NOTE: make sure you use the correct image name!!!\n",
        "# The image in your Google Drive might have a different name!!!\n",
        "img = mpimg.imread('Cher Eng Lim - test_image.jpeg') \n",
        "\n",
        "imgplot = plt.imshow(img)\n",
        "plt.show()"
      ],
      "execution_count": null,
      "outputs": [
        {
          "output_type": "display_data",
          "data": {
            "image/png": "[encoded data removed]",
            "text/plain": [
              "<Figure size 432x288 with 1 Axes>"
            ]
          },
          "metadata": {
            "needs_background": "light"
          }
        }
      ]
    },
    {
      "cell_type": "markdown",
      "metadata": {
        "id": "EGnL_fZXVOAt"
      },
      "source": [
        "Use `....shape` to print out the shape of `img`."
      ]
    },
    {
      "cell_type": "code",
      "metadata": {
        "id": "q5rijHuCVIXs",
        "colab": {
          "base_uri": "https://localhost:8080/"
        },
        "outputId": "a0012f8f-cbf7-48e8-e40d-4ede9e9367d9"
      },
      "source": [
        "# Your code\n",
        "img.shape"
      ],
      "execution_count": null,
      "outputs": [
        {
          "output_type": "execute_result",
          "data": {
            "text/plain": [
              "(183, 276, 3)"
            ]
          },
          "metadata": {},
          "execution_count": 20
        }
      ]
    },
    {
      "cell_type": "markdown",
      "metadata": {
        "id": "vqJGziy5VZe0"
      },
      "source": [
        "You will see that the size of the image is not suitable for VGG16. Therefore, we need to resize it."
      ]
    },
    {
      "cell_type": "markdown",
      "metadata": {
        "id": "R5rGaGVSXqi5"
      },
      "source": [
        "##Load the image and resize it\n",
        "\n",
        "We will use functions available [here](https://www.tensorflow.org/api_docs/python/tf/keras/preprocessing/image). The library was loaded at the top of the notebook:\n",
        "\n",
        "`from tensorflow.keras.preprocessing import image`"
      ]
    },
    {
      "cell_type": "markdown",
      "metadata": {
        "id": "mo5wPSJsXoZy"
      },
      "source": [
        "Use [`image.load_img()`](https://www.tensorflow.org/api_docs/python/tf/keras/utils/load_img) to load and resize the image. Then convert it to an array ([link](https://www.tensorflow.org/api_docs/python/tf/keras/utils/img_to_array)) and print the size of the result."
      ]
    },
    {
      "cell_type": "code",
      "metadata": {
        "id": "ifB9Oy9UyZiD",
        "colab": {
          "base_uri": "https://localhost:8080/"
        },
        "outputId": "4b90ef8e-3b67-4a3e-eff6-0401928cbecc"
      },
      "source": [
        "img = image.load_img('Cher Eng Lim - test_image.jpeg', target_size = (224, 224))\n",
        "array_img = image.img_to_array(img)\n",
        "print(array_img.shape)"
      ],
      "execution_count": null,
      "outputs": [
        {
          "output_type": "stream",
          "name": "stdout",
          "text": [
            "(224, 224, 3)\n"
          ]
        }
      ]
    },
    {
      "cell_type": "markdown",
      "metadata": {
        "id": "ME5SSo8GX5pi"
      },
      "source": [
        "If you look carefully at `InputLayer` of VGG16, you would have seen this:\n",
        "\n",
        "`(None, 224, 224, 3)`.\n",
        "\n",
        "So, we need to expand the dimension of `array_img`. The function to be used is from NumPy ([link](https://numpy.org/doc/stable/reference/generated/numpy.expand_dims.html)).Play with `axis` parameter below to get the required size."
      ]
    },
    {
      "cell_type": "code",
      "metadata": {
        "id": "csuW2aGSytMD",
        "colab": {
          "base_uri": "https://localhost:8080/"
        },
        "outputId": "dd1778e5-7784-4456-ac2d-4762f78fff2e"
      },
      "source": [
        "array_img_expanded = np.expand_dims(array_img, axis=0)\n",
        "print(array_img_expanded.shape)"
      ],
      "execution_count": null,
      "outputs": [
        {
          "output_type": "stream",
          "name": "stdout",
          "text": [
            "(1, 224, 224, 3)\n"
          ]
        }
      ]
    },
    {
      "cell_type": "markdown",
      "metadata": {
        "id": "OSvf9KjIY1i_"
      },
      "source": [
        "##Use VGG16 to predict the image"
      ]
    },
    {
      "cell_type": "markdown",
      "metadata": {
        "id": "LyCgh9fFYOuG"
      },
      "source": [
        "Use `vgg16.predict()` to get the prediction from `vgg16`."
      ]
    },
    {
      "cell_type": "code",
      "metadata": {
        "id": "KJ6DaBhBxoZU"
      },
      "source": [
        "predictions = model.predict(array_img_expanded)"
      ],
      "execution_count": null,
      "outputs": []
    },
    {
      "cell_type": "markdown",
      "metadata": {
        "id": "QPDoEd9xYnBo"
      },
      "source": [
        "Let's print out the size of `predictions`. You would obtain: `Size of predictions =  (1, 1000)`."
      ]
    },
    {
      "cell_type": "code",
      "metadata": {
        "colab": {
          "base_uri": "https://localhost:8080/"
        },
        "id": "21zbSE1ncrS-",
        "outputId": "526c2081-7fe0-472e-e9df-c1ca59031225"
      },
      "source": [
        "print(\"Size of predictions = \", predictions.shape)"
      ],
      "execution_count": null,
      "outputs": [
        {
          "output_type": "stream",
          "name": "stdout",
          "text": [
            "Size of predictions =  (1, 1000)\n"
          ]
        }
      ]
    },
    {
      "cell_type": "markdown",
      "metadata": {
        "id": "ztuQ_pzjYwJN"
      },
      "source": [
        "Q4: Why do you see number $1000$? Ans: <font color='red'>Shows the probabilities of 1000 predicted outcomes</font>\n",
        "\n"
      ]
    },
    {
      "cell_type": "markdown",
      "metadata": {
        "id": "IC0t2xKpZZKc"
      },
      "source": [
        "Print the first $10$ values of `predictions`:"
      ]
    },
    {
      "cell_type": "code",
      "metadata": {
        "id": "Y0fde1aaY7ng",
        "colab": {
          "base_uri": "https://localhost:8080/"
        },
        "outputId": "0f068009-3c77-4a29-bf6c-51f14641ed2a"
      },
      "source": [
        "#Your code:\n",
        "predictions[0, 0:10]"
      ],
      "execution_count": null,
      "outputs": [
        {
          "output_type": "execute_result",
          "data": {
            "text/plain": [
              "array([1.4934457e-08, 1.0355412e-07, 4.3224018e-06, 1.2787180e-05,\n",
              "       3.7336199e-06, 1.6850873e-06, 1.7325595e-08, 1.5385879e-07,\n",
              "       3.9996497e-08, 6.0192034e-09], dtype=float32)"
            ]
          },
          "metadata": {},
          "execution_count": 37
        }
      ]
    },
    {
      "cell_type": "markdown",
      "metadata": {
        "id": "B7kw8cByZuHI"
      },
      "source": [
        "Use [`decode_predictions()`](https://www.tensorflow.org/api_docs/python/tf/keras/applications/imagenet_utils/decode_predictions) to have top $10$ prediction results"
      ]
    },
    {
      "cell_type": "code",
      "metadata": {
        "id": "hm7zSiuzYj0J",
        "colab": {
          "base_uri": "https://localhost:8080/"
        },
        "outputId": "55226e5a-807c-4bb7-8615-7a2eb4fe241a"
      },
      "source": [
        "#Your code:\n",
        "decoded_predictions = decode_predictions(predictions, top=10) "
      ],
      "execution_count": null,
      "outputs": [
        {
          "output_type": "stream",
          "name": "stdout",
          "text": [
            "Downloading data from https://storage.googleapis.com/download.tensorflow.org/data/imagenet_class_index.json\n",
            "40960/35363 [==================================] - 0s 0us/step\n",
            "49152/35363 [=========================================] - 0s 0us/step\n"
          ]
        }
      ]
    },
    {
      "cell_type": "markdown",
      "metadata": {
        "id": "XQvvFDcbZ9mn"
      },
      "source": [
        "Decode the predictions"
      ]
    },
    {
      "cell_type": "code",
      "metadata": {
        "id": "H7TitB3RZurA",
        "colab": {
          "base_uri": "https://localhost:8080/"
        },
        "outputId": "13e9ff01-0360-47dd-c6a1-25504a28ccc3"
      },
      "source": [
        "print(str(decoded_predictions))"
      ],
      "execution_count": null,
      "outputs": [
        {
          "output_type": "stream",
          "name": "stdout",
          "text": [
            "[[('n02124075', 'Egyptian_cat', 0.8915444), ('n02123597', 'Siamese_cat', 0.030444106), ('n02123045', 'tabby', 0.025319066), ('n02127052', 'lynx', 0.015153145), ('n02096585', 'Boston_bull', 0.006679677), ('n02123159', 'tiger_cat', 0.0063001), ('n02110806', 'basenji', 0.0023732935), ('n02091244', 'Ibizan_hound', 0.0014941305), ('n03887697', 'paper_towel', 0.0013989992), ('n04522168', 'vase', 0.0012243645)]]\n"
          ]
        }
      ]
    },
    {
      "cell_type": "markdown",
      "metadata": {
        "id": "ZK23rb67aGGK"
      },
      "source": [
        "###Q5: VGG16 predicts the image to be <font color='red'>Egyptian cat</font>."
      ]
    }
  ]
}