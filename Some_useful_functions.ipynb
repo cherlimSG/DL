{
  "nbformat": 4,
  "nbformat_minor": 0,
  "metadata": {
    "colab": {
      "name": "Cher Eng Lim - Some useful functions.ipynb",
      "provenance": [],
      "collapsed_sections": [],
      "toc_visible": true
    },
    "kernelspec": {
      "name": "python3",
      "display_name": "Python 3"
    }
  },
  "cells": [
    {
      "cell_type": "code",
      "source": [
        "import numpy as np\n",
        "import tensorflow as tf"
      ],
      "metadata": {
        "id": "kqgZyYfOQxD2"
      },
      "execution_count": null,
      "outputs": []
    },
    {
      "cell_type": "markdown",
      "metadata": {
        "id": "QH4FgJ1c_68T"
      },
      "source": [
        "#Style Target"
      ]
    },
    {
      "cell_type": "markdown",
      "metadata": {
        "id": "PZ7oeXv-ACAy"
      },
      "source": [
        "![Image](https://cxl-web-prod-uploads.s3.amazonaws.com/public/pagedown-uploads/ea8b739627d743145c9e1fda0310532d59dbb787.png)"
      ]
    },
    {
      "cell_type": "markdown",
      "metadata": {
        "id": "75k6ASO2E-5L"
      },
      "source": [
        "#Gram matrix"
      ]
    },
    {
      "cell_type": "markdown",
      "source": [
        "##A small numpy array"
      ],
      "metadata": {
        "id": "seiQYctLQk7p"
      }
    },
    {
      "cell_type": "code",
      "source": [
        "np.random.seed(0)\n",
        "x = np.random.randint(0,3, (2, 2, 2))"
      ],
      "metadata": {
        "id": "wFPbz38sEMdU"
      },
      "execution_count": null,
      "outputs": []
    },
    {
      "cell_type": "code",
      "source": [
        "print(x.shape)\n",
        "print(x[:,:,0])\n",
        "print(x[:,:,1])"
      ],
      "metadata": {
        "colab": {
          "base_uri": "https://localhost:8080/"
        },
        "id": "3F84UMyrEaLZ",
        "outputId": "0fef04af-d422-4906-d9e0-f34ea07438a4"
      },
      "execution_count": null,
      "outputs": [
        {
          "output_type": "stream",
          "name": "stdout",
          "text": [
            "(2, 2, 2)\n",
            "[[0 0]\n",
            " [1 0]]\n",
            "[[1 1]\n",
            " [2 2]]\n"
          ]
        }
      ]
    },
    {
      "cell_type": "code",
      "source": [
        "a = tf.linalg.einsum('ijc,ijd->cd', x ,x)\n",
        "print(a.shape)\n",
        "print(a)"
      ],
      "metadata": {
        "colab": {
          "base_uri": "https://localhost:8080/"
        },
        "id": "0azGlgSIBaw6",
        "outputId": "082fb3d7-e037-4a6e-ea0c-0651eb38a429"
      },
      "execution_count": null,
      "outputs": [
        {
          "output_type": "stream",
          "name": "stdout",
          "text": [
            "(2, 2)\n",
            "tf.Tensor(\n",
            "[[ 1  2]\n",
            " [ 2 10]], shape=(2, 2), dtype=int64)\n"
          ]
        }
      ]
    },
    {
      "cell_type": "markdown",
      "source": [
        "##Another example"
      ],
      "metadata": {
        "id": "SSwPuPz5RZeo"
      }
    },
    {
      "cell_type": "code",
      "source": [
        "np.random.seed(1)\n",
        "x = np.random.randint(0,3, (1, 2, 2, 2))\n",
        "# Why number 1?"
      ],
      "metadata": {
        "id": "TxXonczjRax9"
      },
      "execution_count": null,
      "outputs": []
    },
    {
      "cell_type": "code",
      "source": [
        "print(x.shape)\n",
        "print(x[:,:,:,0])\n",
        "print(x[:,:,:,1])"
      ],
      "metadata": {
        "colab": {
          "base_uri": "https://localhost:8080/"
        },
        "id": "RRZ8V5OKRkHU",
        "outputId": "f620b9c2-4a0f-41c9-c664-82c9e17c8e6a"
      },
      "execution_count": null,
      "outputs": [
        {
          "output_type": "stream",
          "name": "stdout",
          "text": [
            "(1, 2, 2, 2)\n",
            "[[[1 0]\n",
            "  [1 0]]]\n",
            "[[[0 1]\n",
            "  [0 1]]]\n"
          ]
        }
      ]
    },
    {
      "cell_type": "code",
      "source": [
        "a = tf.linalg.einsum('bijc,bijd->bcd', x ,x)\n",
        "print(a.shape)\n",
        "print(a)"
      ],
      "metadata": {
        "colab": {
          "base_uri": "https://localhost:8080/"
        },
        "id": "mfxGVDVnRoux",
        "outputId": "49b1fff7-f939-4f0b-a536-aa81457949c0"
      },
      "execution_count": null,
      "outputs": [
        {
          "output_type": "stream",
          "name": "stdout",
          "text": [
            "(1, 2, 2)\n",
            "tf.Tensor(\n",
            "[[[2 0]\n",
            "  [0 2]]], shape=(1, 2, 2), dtype=int64)\n"
          ]
        }
      ]
    },
    {
      "cell_type": "markdown",
      "source": [
        "##A function for the general case"
      ],
      "metadata": {
        "id": "IQS2tu5fRLI0"
      }
    },
    {
      "cell_type": "code",
      "source": [
        "def gram_matrix(input_tensor):\n",
        "\n",
        "  result = tf.linalg.einsum('bijc,bijd->bcd', input_tensor, input_tensor)\n",
        "\n",
        "  input_shape = tf.shape(input_tensor)\n",
        "\n",
        "  num_locations = tf.cast(input_shape[1]*input_shape[2], tf.float32)\n",
        "  \n",
        "  return result/(num_locations)"
      ],
      "metadata": {
        "id": "MUZrG_voQjZ3"
      },
      "execution_count": null,
      "outputs": []
    },
    {
      "cell_type": "markdown",
      "source": [
        "#tf.reduce_mean()"
      ],
      "metadata": {
        "id": "2KjQbb1mUsER"
      }
    },
    {
      "cell_type": "markdown",
      "source": [
        "`tf.reduce_mean()`:Computes the mean of elements across dimensions of a tensor.\n",
        "\n",
        "`tf.add_n()`: Adds all input tensors element-wise."
      ],
      "metadata": {
        "id": "p4J3V7l-W1f2"
      }
    },
    {
      "cell_type": "code",
      "source": [
        "np.random.seed(1)\n",
        "A = np.random.randint(0, 4, (1, 2, 2, 4))\n",
        "B = np.random.randint(0, 4, (1, 2, 2, 4))\n",
        "\n",
        "A = A.astype(float)\n",
        "B = B.astype(float)\n",
        "\n",
        "print(A[0,:,:,0])\n",
        "print(B[0,:,:,0])"
      ],
      "metadata": {
        "colab": {
          "base_uri": "https://localhost:8080/"
        },
        "id": "xFeHkuoiUrAM",
        "outputId": "76b804db-6faa-4c4e-d8ee-1f815d5fc7af"
      },
      "execution_count": null,
      "outputs": [
        {
          "output_type": "stream",
          "name": "stdout",
          "text": [
            "[[1. 3.]\n",
            " [3. 0.]]\n",
            "[[2. 2.]\n",
            " [3. 1.]]\n"
          ]
        }
      ]
    },
    {
      "cell_type": "code",
      "source": [
        "#print all the feature maps\n",
        "for i in range(4):\n",
        "  print(i)\n",
        "  print(A[0,:,:,i])\n",
        "  print(B[0,:,:,i])"
      ],
      "metadata": {
        "colab": {
          "base_uri": "https://localhost:8080/"
        },
        "id": "Hi22mGeuyNOL",
        "outputId": "4359e268-eb73-4135-8d3d-f250f13f77f3"
      },
      "execution_count": null,
      "outputs": [
        {
          "output_type": "stream",
          "name": "stdout",
          "text": [
            "0\n",
            "[[1. 3.]\n",
            " [3. 0.]]\n",
            "[[2. 2.]\n",
            " [3. 1.]]\n",
            "1\n",
            "[[3. 1.]\n",
            " [0. 3.]]\n",
            "[[1. 1.]\n",
            " [0. 2.]]\n",
            "2\n",
            "[[0. 3.]\n",
            " [0. 1.]]\n",
            "[[2. 2.]\n",
            " [2. 2.]]\n",
            "3\n",
            "[[0. 1.]\n",
            " [1. 0.]]\n",
            "[[0. 0.]\n",
            " [0. 0.]]\n"
          ]
        }
      ]
    },
    {
      "cell_type": "code",
      "source": [
        "(A-B)**2"
      ],
      "metadata": {
        "colab": {
          "base_uri": "https://localhost:8080/"
        },
        "id": "XQT7jroEZk8m",
        "outputId": "c7f0b929-f781-487a-d789-7554d0837157"
      },
      "execution_count": null,
      "outputs": [
        {
          "output_type": "execute_result",
          "data": {
            "text/plain": [
              "array([[[[1., 4., 4., 0.],\n",
              "         [1., 0., 1., 1.]],\n",
              "\n",
              "        [[0., 0., 4., 1.],\n",
              "         [1., 1., 1., 0.]]]])"
            ]
          },
          "metadata": {},
          "execution_count": 9
        }
      ]
    },
    {
      "cell_type": "code",
      "source": [
        "a = tf.reduce_mean((A-B)**2)\n",
        "print(a.numpy())"
      ],
      "metadata": {
        "colab": {
          "base_uri": "https://localhost:8080/"
        },
        "id": "pANb_H2aWLfx",
        "outputId": "4377d53f-6a0c-4044-9901-b2930e69719a"
      },
      "execution_count": null,
      "outputs": [
        {
          "output_type": "stream",
          "name": "stdout",
          "text": [
            "1.25\n"
          ]
        }
      ]
    },
    {
      "cell_type": "code",
      "source": [
        "b = tf.add_n([tf.reduce_mean((A-B)**2)])\n",
        "print(b.numpy())"
      ],
      "metadata": {
        "colab": {
          "base_uri": "https://localhost:8080/"
        },
        "id": "lTGXWCBGWVyY",
        "outputId": "ede92ec8-5cc4-40de-b5be-1274e8f44208"
      },
      "execution_count": null,
      "outputs": [
        {
          "output_type": "stream",
          "name": "stdout",
          "text": [
            "1.25\n"
          ]
        }
      ]
    }
  ]
}