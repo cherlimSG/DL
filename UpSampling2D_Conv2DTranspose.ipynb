{
  "nbformat": 4,
  "nbformat_minor": 0,
  "metadata": {
    "colab": {
      "name": "UpSampling2D_Conv2DTranspose.ipynb",
      "provenance": [],
      "collapsed_sections": []
    },
    "kernelspec": {
      "name": "python3",
      "display_name": "Python 3"
    },
    "accelerator": "GPU"
  },
  "cells": [
    {
      "cell_type": "code",
      "metadata": {
        "id": "yPD6P2tWk3UJ"
      },
      "source": [
        "import numpy as np\n",
        "from numpy import asarray\n",
        "from tensorflow.keras.models import Sequential\n",
        "from tensorflow.keras.layers import Conv2DTranspose, UpSampling2D"
      ],
      "execution_count": null,
      "outputs": []
    },
    {
      "cell_type": "code",
      "metadata": {
        "id": "I7wnoV2Wn9Cc"
      },
      "source": [
        "np.set_printoptions(precision = 2)"
      ],
      "execution_count": null,
      "outputs": []
    },
    {
      "cell_type": "markdown",
      "metadata": {
        "id": "OrwTlQhwCIrt"
      },
      "source": [
        "#UpSampling2D layer"
      ]
    },
    {
      "cell_type": "code",
      "metadata": {
        "id": "WEQwZwQHCais"
      },
      "source": [
        "i = 2 # input size"
      ],
      "execution_count": null,
      "outputs": []
    },
    {
      "cell_type": "code",
      "metadata": {
        "id": "bbtLGLRFCPxM",
        "colab": {
          "base_uri": "https://localhost:8080/"
        },
        "outputId": "2816fd78-e43e-4f6f-f8aa-f2e0b349a506"
      },
      "source": [
        "# input data\n",
        "np.random.seed(1)\n",
        "\n",
        "X = np.random.randn(i, i)\n",
        "print(X)"
      ],
      "execution_count": null,
      "outputs": [
        {
          "output_type": "stream",
          "name": "stdout",
          "text": [
            "[[ 1.62 -0.61]\n",
            " [-0.53 -1.07]]\n"
          ]
        }
      ]
    },
    {
      "cell_type": "code",
      "metadata": {
        "id": "xFPBvC40CheV",
        "colab": {
          "base_uri": "https://localhost:8080/"
        },
        "outputId": "d1598982-de67-4e1a-fa6a-8666c9df9547"
      },
      "source": [
        "# Reshape input data into one sample a sample with a channel\n",
        "X = X.reshape((1, i, i, 1))\n",
        "\n",
        "print(\"X.shape = \", X.shape)"
      ],
      "execution_count": null,
      "outputs": [
        {
          "output_type": "stream",
          "name": "stdout",
          "text": [
            "X.shape =  (1, 2, 2, 1)\n"
          ]
        }
      ]
    },
    {
      "cell_type": "code",
      "metadata": {
        "id": "7lo3onBsCn-s",
        "colab": {
          "base_uri": "https://localhost:8080/"
        },
        "outputId": "d22cde4b-215e-4781-f5cd-98f8d3ab735e"
      },
      "source": [
        "# Define a model\n",
        "model = Sequential()\n",
        "model.add(UpSampling2D(input_shape=(2, 2, 1), size = (3, 3), interpolation='nearest'))\n",
        "\n",
        "# Model summary\n",
        "model.summary()"
      ],
      "execution_count": null,
      "outputs": [
        {
          "output_type": "stream",
          "name": "stdout",
          "text": [
            "Model: \"sequential_1\"\n",
            "_________________________________________________________________\n",
            " Layer (type)                Output Shape              Param #   \n",
            "=================================================================\n",
            " up_sampling2d_1 (UpSampling  (None, 6, 6, 1)          0         \n",
            " 2D)                                                             \n",
            "                                                                 \n",
            "=================================================================\n",
            "Total params: 0\n",
            "Trainable params: 0\n",
            "Non-trainable params: 0\n",
            "_________________________________________________________________\n"
          ]
        }
      ]
    },
    {
      "cell_type": "code",
      "metadata": {
        "id": "b50qOheVCvxl",
        "colab": {
          "base_uri": "https://localhost:8080/"
        },
        "outputId": "fe5798b3-9a30-42d6-995f-32f77ff6aecd"
      },
      "source": [
        "X_hat = model.predict(X)\n",
        "print(\"X_hat.shape = \", X_hat.shape)"
      ],
      "execution_count": null,
      "outputs": [
        {
          "output_type": "stream",
          "name": "stdout",
          "text": [
            "X_hat.shape =  (1, 6, 6, 1)\n"
          ]
        }
      ]
    },
    {
      "cell_type": "code",
      "metadata": {
        "id": "UZLN79gzDBws",
        "colab": {
          "base_uri": "https://localhost:8080/"
        },
        "outputId": "32a166b8-ce69-4bc3-fce9-47dea676899b"
      },
      "source": [
        "# Reshape X_hat \n",
        "X_hat = np.squeeze(X_hat, axis = 0)\n",
        "X_hat = np.squeeze(X_hat, axis = 2)\n",
        "\n",
        "print(\"X_hat.shape = \", X_hat.shape)"
      ],
      "execution_count": null,
      "outputs": [
        {
          "output_type": "stream",
          "name": "stdout",
          "text": [
            "X_hat.shape =  (6, 6)\n"
          ]
        }
      ]
    },
    {
      "cell_type": "code",
      "metadata": {
        "id": "pXrOyqGVDFBW",
        "colab": {
          "base_uri": "https://localhost:8080/"
        },
        "outputId": "b37faceb-88d4-4c28-bef5-4d44274742c7"
      },
      "source": [
        "print(X_hat)"
      ],
      "execution_count": null,
      "outputs": [
        {
          "output_type": "stream",
          "name": "stdout",
          "text": [
            "[[ 1.62  1.62  1.62 -0.61 -0.61 -0.61]\n",
            " [ 1.62  1.62  1.62 -0.61 -0.61 -0.61]\n",
            " [ 1.62  1.62  1.62 -0.61 -0.61 -0.61]\n",
            " [-0.53 -0.53 -0.53 -1.07 -1.07 -1.07]\n",
            " [-0.53 -0.53 -0.53 -1.07 -1.07 -1.07]\n",
            " [-0.53 -0.53 -0.53 -1.07 -1.07 -1.07]]\n"
          ]
        }
      ]
    },
    {
      "cell_type": "markdown",
      "metadata": {
        "id": "tj6MY-QqCMh-"
      },
      "source": [
        "#Conv2DTranspose layer"
      ]
    },
    {
      "cell_type": "code",
      "metadata": {
        "id": "NTK_rZaJq7xY"
      },
      "source": [
        "i = 7 # input size\n",
        "s = 3 # stride\n",
        "k = 4 # kernel size"
      ],
      "execution_count": null,
      "outputs": []
    },
    {
      "cell_type": "code",
      "metadata": {
        "id": "eJjhXzZ1kvX_",
        "colab": {
          "base_uri": "https://localhost:8080/"
        },
        "outputId": "608ce15a-f329-453d-d404-a5d293eed830"
      },
      "source": [
        "# input data\n",
        "X = np.random.rand(i, i)\n",
        "print(X)"
      ],
      "execution_count": null,
      "outputs": [
        {
          "output_type": "stream",
          "name": "stdout",
          "text": [
            "[[0.4  0.54 0.42 0.69 0.2  0.88 0.03]\n",
            " [0.67 0.42 0.56 0.14 0.2  0.8  0.97]\n",
            " [0.31 0.69 0.88 0.89 0.09 0.04 0.17]\n",
            " [0.88 0.1  0.42 0.96 0.53 0.69 0.32]\n",
            " [0.69 0.83 0.02 0.75 0.99 0.75 0.28]\n",
            " [0.79 0.1  0.45 0.91 0.29 0.29 0.13]\n",
            " [0.02 0.68 0.21 0.27 0.49 0.05 0.57]]\n"
          ]
        }
      ]
    },
    {
      "cell_type": "code",
      "metadata": {
        "id": "k2ixG_9dlFhB",
        "colab": {
          "base_uri": "https://localhost:8080/"
        },
        "outputId": "5aa830ef-356e-4985-e5cf-76023a288f38"
      },
      "source": [
        "# Reshape input data into one sample a sample with a channel\n",
        "X = X.reshape((1, i, i, 1))\n",
        "\n",
        "print(\"X.shape = \", X.shape)"
      ],
      "execution_count": null,
      "outputs": [
        {
          "output_type": "stream",
          "name": "stdout",
          "text": [
            "X.shape =  (1, 7, 7, 1)\n"
          ]
        }
      ]
    },
    {
      "cell_type": "code",
      "metadata": {
        "id": "QY4d3DG1lOBg",
        "colab": {
          "base_uri": "https://localhost:8080/"
        },
        "outputId": "4759793a-872d-416c-a022-7a1579c5c3bf"
      },
      "source": [
        "# Define a model\n",
        "model = Sequential()\n",
        "model.add(Conv2DTranspose(filters = 1, \n",
        "                          kernel_size = (k, k), \n",
        "                          strides = (s, s), \n",
        "                          input_shape=(i, i, 1),\n",
        "                          padding = 'same'\n",
        "                          ))\n",
        "\n",
        "# Model summary\n",
        "model.summary()"
      ],
      "execution_count": null,
      "outputs": [
        {
          "output_type": "stream",
          "name": "stdout",
          "text": [
            "Model: \"sequential_3\"\n",
            "_________________________________________________________________\n",
            " Layer (type)                Output Shape              Param #   \n",
            "=================================================================\n",
            " conv2d_transpose_1 (Conv2DT  (None, 21, 21, 1)        17        \n",
            " ranspose)                                                       \n",
            "                                                                 \n",
            "=================================================================\n",
            "Total params: 17\n",
            "Trainable params: 17\n",
            "Non-trainable params: 0\n",
            "_________________________________________________________________\n"
          ]
        }
      ]
    },
    {
      "cell_type": "code",
      "metadata": {
        "id": "nDocLB5Klmwo",
        "colab": {
          "base_uri": "https://localhost:8080/"
        },
        "outputId": "d0dc9436-b3f3-44d1-99d8-3d84595987c3"
      },
      "source": [
        "X_hat = model.predict(X)\n",
        "\n",
        "print(\"X_hat.shape = \", X_hat.shape)"
      ],
      "execution_count": null,
      "outputs": [
        {
          "output_type": "stream",
          "name": "stdout",
          "text": [
            "X_hat.shape =  (1, 21, 21, 1)\n"
          ]
        }
      ]
    },
    {
      "cell_type": "code",
      "metadata": {
        "id": "pZ78C0hDltpi",
        "colab": {
          "base_uri": "https://localhost:8080/"
        },
        "outputId": "7ddd2120-7a7e-4f57-887c-0d8d748afaf2"
      },
      "source": [
        "# Reshape X_hat \n",
        "X_hat = np.squeeze(X_hat, axis = 0)\n",
        "X_hat = np.squeeze(X_hat, axis = 2)\n",
        "\n",
        "print(\"X_hat.shape = \", X_hat.shape)"
      ],
      "execution_count": null,
      "outputs": [
        {
          "output_type": "stream",
          "name": "stdout",
          "text": [
            "X_hat.shape =  (21, 21)\n"
          ]
        }
      ]
    },
    {
      "cell_type": "code",
      "metadata": {
        "id": "TEkl3sJtwhdJ",
        "colab": {
          "base_uri": "https://localhost:8080/"
        },
        "outputId": "e4dc545a-fe5e-42eb-c7a9-47b94fbd2538"
      },
      "source": [
        "print(X_hat)"
      ],
      "execution_count": null,
      "outputs": [
        {
          "output_type": "stream",
          "name": "stdout",
          "text": [
            "[[ 3.76e-02  1.50e-01 -1.23e-01 -1.15e-02  2.03e-01 -1.67e-01 -4.52e-02\n",
            "   1.58e-01 -1.30e-01 -1.15e-03  2.59e-01 -2.13e-01 -8.87e-02  7.72e-02\n",
            "  -6.35e-02  5.10e-02  3.31e-01 -2.73e-01 -1.36e-01  1.03e-02 -8.51e-03]\n",
            " [ 9.17e-02 -5.58e-02  4.82e-02  5.47e-02 -7.58e-02  6.55e-02  2.09e-03\n",
            "  -5.90e-02  5.10e-02  8.46e-02 -9.64e-02  8.33e-02 -7.33e-02 -2.88e-02\n",
            "   2.49e-02  1.67e-01 -1.24e-01  1.07e-01 -1.48e-01 -3.85e-03  3.33e-03]\n",
            " [ 1.59e-01 -5.71e-02 -1.16e-01  2.13e-01 -7.75e-02 -1.57e-01  1.64e-01\n",
            "  -6.03e-02 -1.22e-01  2.72e-01 -9.86e-02 -2.00e-01  7.74e-02 -2.94e-02\n",
            "  -5.97e-02  3.50e-01 -1.26e-01 -2.56e-01  5.21e-03 -3.94e-03 -7.99e-03]\n",
            " [-2.33e-02  8.40e-02 -3.50e-01 -4.32e-02 -7.21e-02 -3.22e-01  8.67e-02\n",
            "   3.22e-02 -3.23e-01 -7.59e-02 -2.39e-01 -2.88e-01  1.95e-01 -1.24e-02\n",
            "  -1.35e-01 -7.49e-02 -7.20e-02 -5.62e-01  2.71e-01  3.54e-01 -3.11e-01]\n",
            " [ 1.55e-01 -9.43e-02  8.15e-02 -2.15e-02 -5.87e-02  5.07e-02  5.57e-02\n",
            "  -7.86e-02  6.79e-02 -6.58e-02 -1.97e-02  1.71e-02  2.11e-02 -2.79e-02\n",
            "   2.41e-02  1.50e-01 -1.13e-01  9.74e-02  8.29e-02 -1.36e-01  1.18e-01]\n",
            " [ 2.68e-01 -9.65e-02 -1.96e-01  1.63e-01 -6.01e-02 -1.22e-01  2.21e-01\n",
            "  -8.04e-02 -1.63e-01  5.25e-02 -2.02e-02 -4.10e-02  7.84e-02 -2.85e-02\n",
            "  -5.78e-02  3.19e-01 -1.15e-01 -2.34e-01  3.82e-01 -1.39e-01 -2.83e-01]\n",
            " [-1.17e-01 -1.67e-01 -3.37e-01  1.63e-01  8.35e-02 -3.64e-01 -2.08e-04\n",
            "   9.27e-02 -4.72e-01  1.14e-01  2.78e-01 -3.28e-01 -1.27e-01 -5.23e-02\n",
            "  -9.71e-02 -1.15e-01 -3.27e-01 -2.98e-01  8.24e-02 -3.49e-01 -3.98e-01]\n",
            " [ 7.24e-02 -4.41e-02  3.81e-02  1.05e-01 -9.74e-02  8.42e-02  8.07e-02\n",
            "  -1.23e-01  1.07e-01  5.26e-02 -1.26e-01  1.09e-01 -1.38e-01 -1.20e-02\n",
            "   1.03e-02 -5.93e-03 -5.49e-03  4.75e-03  3.24e-02 -2.39e-02  2.07e-02]\n",
            " [ 1.25e-01 -4.51e-02 -9.15e-02  2.75e-01 -9.96e-02 -2.02e-01  3.46e-01\n",
            "  -1.26e-01 -2.56e-01  3.52e-01 -1.29e-01 -2.61e-01  2.82e-02 -1.22e-02\n",
            "  -2.48e-02  1.51e-02 -5.62e-03 -1.14e-02  6.77e-02 -2.44e-02 -4.96e-02]\n",
            " [ 1.47e-02  1.98e-01 -3.85e-01 -1.69e-01 -2.58e-01 -2.78e-01  7.84e-02\n",
            "  -2.15e-01 -4.44e-01  1.40e-01 -1.97e-02 -6.17e-01  1.99e-01  1.65e-01\n",
            "  -1.96e-01  3.15e-03  2.45e-01 -2.29e-01 -1.03e-01  4.67e-02 -1.59e-01]\n",
            " [ 2.03e-01 -1.24e-01  1.07e-01 -1.32e-01 -1.38e-02  1.20e-02  8.00e-02\n",
            "  -5.92e-02  5.12e-02  1.47e-01 -1.35e-01  1.16e-01 -4.53e-02 -7.50e-02\n",
            "   6.48e-02  6.61e-02 -9.73e-02  8.41e-02 -4.88e-02 -4.44e-02  3.84e-02]\n",
            " [ 3.52e-01 -1.26e-01 -2.56e-01  3.36e-02 -1.42e-02 -2.87e-02  1.68e-01\n",
            "  -6.06e-02 -1.23e-01  3.81e-01 -1.38e-01 -2.80e-01  2.07e-01 -7.67e-02\n",
            "  -1.56e-01  2.73e-01 -9.96e-02 -2.02e-01  1.22e-01 -4.54e-02 -9.21e-02]\n",
            " [-1.27e-01 -1.15e-01 -5.27e-01  2.61e-01  2.73e-01 -2.94e-01 -1.87e-01\n",
            "  -1.73e-01 -1.56e-01  8.12e-03 -1.25e-01 -5.75e-01  1.99e-01  1.46e-01\n",
            "  -4.98e-01 -4.72e-02 -1.25e-02 -4.79e-01  8.52e-02 -2.86e-02 -2.00e-01]\n",
            " [ 1.59e-01 -9.66e-02  8.35e-02  7.21e-02 -1.17e-01  1.01e-01 -1.43e-01\n",
            "  -2.57e-03  2.22e-03  1.70e-01 -1.06e-01  9.12e-02  9.65e-02 -1.39e-01\n",
            "   1.20e-01 -1.05e-03 -1.05e-01  9.10e-02 -6.68e-02 -3.95e-02  3.41e-02]\n",
            " [ 2.75e-01 -9.88e-02 -2.00e-01  3.30e-01 -1.20e-01 -2.44e-01  1.85e-03\n",
            "  -2.63e-03 -5.34e-03  3.00e-01 -1.08e-01 -2.19e-01  3.91e-01 -1.42e-01\n",
            "  -2.89e-01  2.93e-01 -1.08e-01 -2.18e-01  1.07e-01 -4.04e-02 -8.18e-02]\n",
            " [-7.54e-02  5.35e-03 -4.90e-01 -5.36e-02 -3.17e-01 -3.30e-01  3.19e-01\n",
            "   1.61e-01 -1.46e-01 -1.42e-01  2.33e-02 -5.50e-01 -6.55e-02 -3.11e-01\n",
            "  -4.44e-01  1.68e-01 -2.10e-01 -3.56e-01  1.71e-01 -7.04e-02 -1.40e-01]\n",
            " [ 1.82e-01 -1.11e-01  9.60e-02 -1.15e-01 -1.45e-02  1.26e-02  8.53e-02\n",
            "  -6.30e-02  5.45e-02  1.31e-01 -1.28e-01  1.10e-01 -9.20e-02 -4.13e-02\n",
            "   3.57e-02  1.49e-02 -4.05e-02  3.50e-02 -2.06e-02 -1.83e-02  1.58e-02]\n",
            " [ 3.16e-01 -1.14e-01 -2.30e-01  3.62e-02 -1.49e-02 -3.01e-02  1.79e-01\n",
            "  -6.45e-02 -1.31e-01  3.61e-01 -1.31e-01 -2.65e-01  1.12e-01 -4.23e-02\n",
            "  -8.57e-02  1.13e-01 -4.14e-02 -8.40e-02  5.02e-02 -1.87e-02 -3.79e-02]\n",
            " [-1.71e-01 -3.29e-01 -2.88e-01  3.19e-01  2.12e-01 -2.48e-01 -1.48e-01\n",
            "  -1.11e-01 -2.26e-01 -4.80e-02 -2.87e-01 -4.07e-01  2.63e-01  6.04e-02\n",
            "  -2.58e-01 -3.12e-02 -1.03e-01 -1.19e-01  1.20e-01  1.61e-01 -2.25e-01]\n",
            " [ 4.47e-03 -2.72e-03  2.35e-03  1.53e-01 -9.55e-02  8.25e-02 -7.05e-02\n",
            "  -2.98e-02  2.57e-02  2.41e-02 -3.74e-02  3.23e-02  6.69e-02 -6.92e-02\n",
            "   5.98e-02 -7.41e-02 -7.51e-03  6.49e-03  1.23e-01 -8.08e-02  6.98e-02]\n",
            " [ 7.75e-03 -2.79e-03 -5.65e-03  2.72e-01 -9.77e-02 -1.98e-01  8.03e-02\n",
            "  -3.05e-02 -6.18e-02  1.05e-01 -3.82e-02 -7.75e-02  1.95e-01 -7.07e-02\n",
            "  -1.43e-01  1.81e-02 -7.68e-03 -1.56e-02  2.29e-01 -8.26e-02 -1.68e-01]]\n"
          ]
        }
      ]
    }
  ]
}