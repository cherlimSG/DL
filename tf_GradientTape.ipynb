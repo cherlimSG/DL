{
  "nbformat": 4,
  "nbformat_minor": 0,
  "metadata": {
    "colab": {
      "name": "Cher Eng Lim - tf.GradientTape.ipynb",
      "provenance": [],
      "collapsed_sections": []
    },
    "kernelspec": {
      "name": "python3",
      "display_name": "Python 3"
    },
    "accelerator": "GPU"
  },
  "cells": [
    {
      "cell_type": "markdown",
      "metadata": {
        "id": "2xosrC_3st7U"
      },
      "source": [
        "#Import libraries"
      ]
    },
    {
      "cell_type": "code",
      "metadata": {
        "id": "x6_pIBOpsuzn"
      },
      "source": [
        "from tensorflow.keras.layers import Conv2D, Flatten, Dense, Dropout, MaxPooling2D, Activation, BatchNormalization\n",
        "from tensorflow.keras.models import Sequential\n",
        "from tensorflow.keras.initializers import RandomNormal\n",
        "from tensorflow.keras.datasets import mnist\n",
        "from tensorflow.keras.optimizers import Adam\n",
        "import matplotlib.pyplot as plt\n",
        "import random\n",
        "import math\n",
        "%matplotlib inline"
      ],
      "execution_count": 1,
      "outputs": []
    },
    {
      "cell_type": "markdown",
      "metadata": {
        "id": "24INGl3kHBKl"
      },
      "source": [
        "#Basic of tf.GradientTape\n",
        "`tf.GradientTape` allows us to track TensorFlow computations and calculate gradients with respect to some given variables."
      ]
    },
    {
      "cell_type": "markdown",
      "metadata": {
        "id": "1m4kxcNzHyRs"
      },
      "source": [
        "#Example 1:\n",
        "\n",
        "Suppose we have a function $y=x^4$. The first derivative of $y$ with respect to $x$ is \n",
        "\n",
        "$y^{'}=\\frac{df}{dx}=4x^3$\n",
        "\n",
        "So if we have $x = 3$, the first derivative calculated at $x=3$ is $108$. Let's use `tf.GradientTape` to calculate this value. "
      ]
    },
    {
      "cell_type": "code",
      "metadata": {
        "colab": {
          "base_uri": "https://localhost:8080/"
        },
        "id": "y6Sz3h15G97_",
        "outputId": "cc957028-eebe-4dda-d112-7966ca06f18e"
      },
      "source": [
        "import tensorflow as tf\n",
        "\n",
        "# x is a contant of value 3.0\n",
        "x = tf.constant(3.0)\n",
        "\n",
        "with tf.GradientTape() as tape:\n",
        "  # GradientTape doesn’t track constants,\n",
        "  # so we instruct it to do it with: tape.watch(variable)\n",
        "  tape.watch(x)\n",
        "  y = x ** 4 # y = x^4\n",
        "\n",
        "# Now, calculate the first derivative\n",
        "grad = tape.gradient(y, x)\n",
        "\n",
        "# Convert grad to numpy ndarray and print it out\n",
        "print(grad.numpy())"
      ],
      "execution_count": 13,
      "outputs": [
        {
          "output_type": "stream",
          "name": "stdout",
          "text": [
            "108.0\n"
          ]
        }
      ]
    },
    {
      "cell_type": "markdown",
      "metadata": {
        "id": "wqLVYCfiKEEi"
      },
      "source": [
        "#Example 2:\n",
        "\n",
        "We re-use Example 1 but now $x$ is **not a constant**. We set it to be a variable. Hence, there is no need to instruct `tape` to watch $x$. "
      ]
    },
    {
      "cell_type": "code",
      "metadata": {
        "colab": {
          "base_uri": "https://localhost:8080/"
        },
        "id": "PxhA6SkyKU_A",
        "outputId": "44653f80-1378-4671-b4df-0cfb4d014d0d"
      },
      "source": [
        "# x is a variable of value 3.0\n",
        "x = tf.Variable(3.0, trainable = True)\n",
        "\n",
        "with tf.GradientTape() as tape:\n",
        "  y = x ** 4 # y = x^4\n",
        "\n",
        "# Now, calculate the first derivative and print it out\n",
        "print(tape.gradient(y, x).numpy())"
      ],
      "execution_count": 14,
      "outputs": [
        {
          "output_type": "stream",
          "name": "stdout",
          "text": [
            "108.0\n"
          ]
        }
      ]
    },
    {
      "cell_type": "markdown",
      "metadata": {
        "id": "siJrvxmZSQoP"
      },
      "source": [
        "#Linear Regression with a custom loss function "
      ]
    },
    {
      "cell_type": "markdown",
      "metadata": {
        "id": "WOyZrQK7gkRI"
      },
      "source": [
        "## Use `tf.norm(...., ord = 1)`"
      ]
    },
    {
      "cell_type": "code",
      "metadata": {
        "id": "pm9d0IsVSVZl",
        "colab": {
          "base_uri": "https://localhost:8080/"
        },
        "outputId": "eb53342f-fd3a-4049-d934-acf3ec5b1e89"
      },
      "source": [
        "import random\n",
        "import numpy as np\n",
        "\n",
        "# Training set\n",
        "X_train = np.asarray([0, 1, 2, 3, 4, 5, 6, 7, 8, 9, 10])\n",
        "\n",
        "y_train = np.asarray([x*4 + 10 + np.random.normal(1) for x in X_train]) # y = 4x + 10 + noise\n",
        "\n",
        "# Above line can be easier to understand in C-like syntax\n",
        "# y_train = [] # an empty list\n",
        "# for x in X_train:\n",
        "#   temp = x*4 + 10 + np.random.normal(1)\n",
        "#   y_train.append(temp)\n",
        "# y_train = np.asarray(y_train) # convert the list to numpy array\n",
        "\n",
        "# custom loss function\n",
        "def loss_norm1(real_y, pred_y):\n",
        "    return tf.norm(real_y - pred_y, ord = 1)\n",
        "\n",
        "# Trainable variables\n",
        "w = tf.Variable(random.random(), trainable=True)\n",
        "c = tf.Variable(random.random(), trainable=True)\n",
        "\n",
        "# Step function\n",
        "def step(real_X, real_y):\n",
        "  with tf.GradientTape(persistent = True) as tape:\n",
        "    \n",
        "    # This is a linear regression model\n",
        "    pred_y = w * real_X + c\n",
        "\n",
        "    # Calculate loss\n",
        "    reg_loss = loss_norm1(real_y, pred_y)\n",
        "      \n",
        "    # Calculate gradients\n",
        "    w_gradients, c_gradients = tape.gradient(reg_loss, (w, c))\n",
        "\n",
        "    # Update w and c\n",
        "    w.assign_sub(w_gradients * 0.001)\n",
        "    c.assign_sub(c_gradients * 0.001)\n",
        "\n",
        "# Training loop\n",
        "for _ in range(2000):\n",
        "    step(X_train, y_train)\n",
        "\n",
        "print(f'y ≈ {w.numpy()}x + {c.numpy()}')\n",
        "\n",
        "w_norm1 = w.numpy()\n",
        "c_norm1 = c.numpy()"
      ],
      "execution_count": 15,
      "outputs": [
        {
          "output_type": "stream",
          "name": "stdout",
          "text": [
            "WARNING:tensorflow:Calling GradientTape.gradient on a persistent tape inside its context is significantly less efficient than calling it outside the context (it causes the gradient ops to be recorded on the tape, leading to increased CPU and memory usage). Only call GradientTape.gradient inside the context if you actually want to trace the gradient in order to compute higher order derivatives.\n",
            "y ≈ 3.983269214630127x + 10.38074779510498\n"
          ]
        }
      ]
    },
    {
      "cell_type": "markdown",
      "metadata": {
        "id": "Aimmov-Egdwo"
      },
      "source": [
        "## Activity 1: Use `tf.norm(...., ord = 2)`"
      ]
    },
    {
      "cell_type": "code",
      "metadata": {
        "id": "JztxrNtbgdSl",
        "colab": {
          "base_uri": "https://localhost:8080/"
        },
        "outputId": "f5b7dbce-04ca-4708-c5cd-1df32a4131d5"
      },
      "source": [
        "# custom loss function\n",
        "def loss_norm2(real_y, pred_y):\n",
        "    return tf.norm(real_y - pred_y, ord=2)\n",
        "\n",
        "# Trainable variables\n",
        "w = tf.Variable(random.random(), trainable=True)\n",
        "c = tf.Variable(random.random(), trainable=True)\n",
        "\n",
        "# Step function\n",
        "def step(real_X, real_y):\n",
        "    with tf.GradientTape(persistent = True) as tape:\n",
        "\n",
        "        # This is a linear regression model\n",
        "        pred_y = w * real_X + c\n",
        "\n",
        "        # Calculate loss\n",
        "        reg_loss = loss_norm2(real_y, pred_y)\n",
        "    \n",
        "    # Calculate gradients\n",
        "    w_gradients, c_gradients = tape.gradient(reg_loss, (w, c))\n",
        "\n",
        "    # Update w and c\n",
        "    w.assign_sub(w_gradients * 0.001)\n",
        "    c.assign_sub(c_gradients * 0.001)\n",
        "\n",
        "# Training loop\n",
        "for _ in range(2000):\n",
        "    step(X_train, y_train)\n",
        "\n",
        "print(f'y ≈ {w.numpy()}x + {c.numpy()}')\n",
        "\n",
        "w_norm2 = w.numpy()\n",
        "c_norm2 = c.numpy()"
      ],
      "execution_count": 16,
      "outputs": [
        {
          "output_type": "stream",
          "name": "stdout",
          "text": [
            "y ≈ 4.92919921875x + 3.9429104328155518\n"
          ]
        }
      ]
    },
    {
      "cell_type": "markdown",
      "metadata": {
        "id": "1DOktrfbhiuF"
      },
      "source": [
        "##Activity 2: Use Huber loss"
      ]
    },
    {
      "cell_type": "code",
      "metadata": {
        "id": "7iZsVd83XJ59",
        "colab": {
          "base_uri": "https://localhost:8080/"
        },
        "outputId": "c3693244-4f98-4abb-cb58-65701dbbef07"
      },
      "source": [
        "# custom loss function\n",
        "def loss_huber(real_y, pred_y, delta):\n",
        "  t = tf.norm(real_y - pred_y, ord = 1)/real_y.size\n",
        "  if (t <= delta):\n",
        "    return 0.5*t^2\n",
        "  else:\n",
        "    return delta*(t-0.5*delta)\n",
        "\n",
        "# Trainable variables\n",
        "w = tf.Variable(random.random(), trainable=True)\n",
        "c = tf.Variable(random.random(), trainable=True)\n",
        "\n",
        "# Step function\n",
        "def step(real_X, real_y):\n",
        "    with tf.GradientTape(persistent = True) as tape:\n",
        "\n",
        "        # This is a linear regression model\n",
        "        pred_y = w * real_X + c\n",
        "\n",
        "        # Calculate loss\n",
        "        reg_loss = loss_huber(real_y, pred_y, 0.1)\n",
        "    \n",
        "    # Calculate gradients\n",
        "    w_gradients, c_gradients = tape.gradient(reg_loss, (w, c))\n",
        "\n",
        "    # Update m and c\n",
        "    w.assign_sub(w_gradients * 0.001)\n",
        "    c.assign_sub(c_gradients * 0.001)\n",
        "\n",
        "# Training loop\n",
        "for _ in range(10000):\n",
        "    step(X_train, y_train)\n",
        "\n",
        "print(f'y ≈ {w.numpy()}x + {c.numpy()}')\n",
        "\n",
        "w_huber = w.numpy()\n",
        "c_huber = c.numpy()"
      ],
      "execution_count": 17,
      "outputs": [
        {
          "output_type": "stream",
          "name": "stdout",
          "text": [
            "y ≈ 4.959620952606201x + 1.6166175603866577\n"
          ]
        }
      ]
    },
    {
      "cell_type": "markdown",
      "metadata": {
        "id": "4797mInHKKaY"
      },
      "source": [
        "##Compare three loss functions"
      ]
    },
    {
      "cell_type": "code",
      "metadata": {
        "id": "nD0aDoKRWtBc",
        "colab": {
          "base_uri": "https://localhost:8080/",
          "height": 513
        },
        "outputId": "bda6a312-2a0d-469c-a240-a7e853f2c15c"
      },
      "source": [
        "import matplotlib.pyplot as plt\n",
        "\n",
        "plt.figure(figsize = (10, 8))\n",
        "plt.scatter(X_train, y_train, label = 'Training data')\n",
        "\n",
        "x = np.linspace(min(X_train), max(X_train), 100)\n",
        "y_norm1 = w_norm1*x + c_norm1\n",
        "y_norm2 = w_norm2*x + c_norm2\n",
        "y_huber = w_huber*x + c_norm2\n",
        "\n",
        "plt.plot(x, y_norm1, '--r', label = 'Linear Regression Line using 1-norm')\n",
        "plt.plot(x, y_norm2,  '-b', label = 'Linear Regression Line using 2-norm')\n",
        "plt.plot(x, y_huber,  '-.k', label = 'Linear Regression Line using Huber')\n",
        "\n",
        "plt.title('2000 iterations')\n",
        "plt.xlabel('x')\n",
        "plt.ylabel('y')\n",
        "plt.grid()\n",
        "plt.legend()\n",
        "plt.show()"
      ],
      "execution_count": 8,
      "outputs": [
        {
          "output_type": "display_data",
          "data": {
            "image/png": "[encoded data removed]",
            "text/plain": [
              "<Figure size 720x576 with 1 Axes>"
            ]
          },
          "metadata": {
            "needs_background": "light"
          }
        }
      ]
    },
    {
      "cell_type": "markdown",
      "metadata": {
        "id": "R2No7MlQsHDX"
      },
      "source": [
        "#MNIST dataset"
      ]
    },
    {
      "cell_type": "markdown",
      "metadata": {
        "id": "zl91-hCouT-R"
      },
      "source": [
        "##Load and preprocess the training data"
      ]
    },
    {
      "cell_type": "code",
      "metadata": {
        "id": "Xdg1djmAuYIp"
      },
      "source": [
        "# Load training data\n",
        "(X_train, y_train), (X_test, y_test) = mnist.load_data()\n",
        "# X_train: 6000 x 28 x 28\n",
        "\n",
        "X_train = (X_train / 255).reshape((-1, 28, 28, 1))\n",
        "# X_train: 6000 x 28 x 28 x 1\n",
        "\n",
        "y_train = tf.keras.utils.to_categorical(y_train, 10)\n",
        "\n",
        "X_test = (X_test / 255).reshape((-1, 28, 28, 1))\n",
        "y_test = tf.keras.utils.to_categorical(y_test, 10)"
      ],
      "execution_count": 64,
      "outputs": []
    },
    {
      "cell_type": "code",
      "source": [
        "X_train.shape"
      ],
      "metadata": {
        "colab": {
          "base_uri": "https://localhost:8080/"
        },
        "id": "EzaALi-uLV9x",
        "outputId": "ca598e1b-94d4-42ee-8f2d-c36c614c8884"
      },
      "execution_count": 65,
      "outputs": [
        {
          "output_type": "execute_result",
          "data": {
            "text/plain": [
              "(60000, 28, 28, 1)"
            ]
          },
          "metadata": {},
          "execution_count": 65
        }
      ]
    },
    {
      "cell_type": "markdown",
      "metadata": {
        "id": "D8FZfBMCC74v"
      },
      "source": [
        "##Activity 3: Write a function `get_model()` to define your CNN.\n",
        "\n",
        "Details of the CNN:\n",
        "\n",
        "- CONV(16 kernels of size (3, 3)) ==> RELU ==> BATCHNORM ==> MAXPOOLING(pool size (2, 2))\n",
        "\n",
        "- [CONV(32 kernels of size (3, 3)) ==> RELU ==> BATCHNORM] x 2 (times) ==> MAXPOOLING(pool size (2, 2))\n",
        "\n",
        "- [CONV(64 kernels of size (3, 3)) ==> RELU ==> BATCHNORM] x 3 (times) \n",
        "\n",
        "- FLATTEN ==> DENSE ==> DROPOUT (rate = 0.5)\n",
        "\n",
        "Outout layer: please decide the appropriate information."
      ]
    },
    {
      "cell_type": "code",
      "metadata": {
        "id": "Ka3EcasixA4t"
      },
      "source": [
        "def get_model():\n",
        "  model = Sequential()\n",
        "  model.add(Conv2D(16, (3,3), input_shape=(28,28,1), activation='relu', padding='same'))\n",
        "  model.add(BatchNormalization())\n",
        "  model.add(MaxPooling2D(pool_size=(2,2)))\n",
        "\n",
        "  model.add(Conv2D(32, (3,3), activation='relu', padding='same'))\n",
        "  model.add(BatchNormalization())\n",
        "  model.add(Conv2D(32, (3,3), activation='relu', padding='same'))\n",
        "  model.add(BatchNormalization())\n",
        "  model.add(MaxPooling2D(pool_size=(2,2)))\n",
        "\n",
        "  model.add(Conv2D(64, (3,3), activation='relu', padding='same'))\n",
        "  model.add(BatchNormalization())\n",
        "  model.add(Conv2D(64, (3,3), activation='relu', padding='same'))\n",
        "  model.add(BatchNormalization())\n",
        "  model.add(Conv2D(64, (3,3), activation='relu', padding='same'))\n",
        "  model.add(BatchNormalization())\n",
        "\n",
        "  model.add(Flatten())\n",
        "  model.add(Dense(256, activation='relu'))\n",
        "  model.add(BatchNormalization())\n",
        "  model.add(Dropout(0.5))\n",
        "\n",
        "  model.add(Dense(10, activation='softmax'))\n",
        "  \n",
        "\n",
        "  return model"
      ],
      "execution_count": 66,
      "outputs": []
    },
    {
      "cell_type": "markdown",
      "metadata": {
        "id": "oOw4xjwBExYU"
      },
      "source": [
        "##Some other hyperparameters"
      ]
    },
    {
      "cell_type": "code",
      "metadata": {
        "id": "8nLf1MdAE23l"
      },
      "source": [
        "# Hyperparameters\n",
        "batch_size = 128\n",
        "epochs = 25"
      ],
      "execution_count": 67,
      "outputs": []
    },
    {
      "cell_type": "markdown",
      "metadata": {
        "id": "DnWzntmME7iQ"
      },
      "source": [
        "##Activity 4: Use `tf.GradientTape`"
      ]
    },
    {
      "cell_type": "code",
      "metadata": {
        "id": "Yaloqv9KspK-",
        "colab": {
          "base_uri": "https://localhost:8080/"
        },
        "outputId": "c19b3265-214e-440c-a998-356c8e12616d"
      },
      "source": [
        "# Component 3: an optimizer\n",
        "# Use Adam with lr = 0.001\n",
        "optimizer = Adam(learning_rate=0.001)\n",
        "\n",
        "\n",
        "# Component 1: a model\n",
        "# Call get_model()\n",
        "model = get_model()\n",
        "\n",
        "# Step function\n",
        "def step(real_X, real_y):\n",
        "    with tf.GradientTape() as tape:\n",
        "        # Forward pass\n",
        "        # Pass the data through the model and obtain the output: pred_y\n",
        "        pred_y = model(real_X.reshape((-1, 28, 28, 1)))\n",
        "\n",
        "        # Use pred_y and real_y to calculate the loss function\n",
        "        # This is Component 2\n",
        "        # We use the built-in loss function: tf.keras.losses.categorical_crossentropy\n",
        "        model_loss = tf.keras.losses.categorical_crossentropy(real_y, pred_y)\n",
        "    \n",
        "    # Calculate gradients of model_loss with repect to all parameters of the model\n",
        "    # Use model.trainable_variables as the second input when calling tape.gradient()\n",
        "    model_gradients = tape.gradient(model_loss, model.trainable_variables)\n",
        "\n",
        "    # Backward pass\n",
        "    # Update all parameters of the model\n",
        "    # Use optimizer.apply_gradients()\n",
        "    optimizer.apply_gradients(zip(model_gradients, model.trainable_variables))\n",
        "\n",
        "# Training loop\n",
        "\n",
        "# Calculate how many sample per batch\n",
        "batch_per_epoch = math.floor(len(X_train) / batch_size)\n",
        "\n",
        "for epoch in range(epochs): \n",
        "    print('=', epoch+1, end = '')\n",
        "\n",
        "    for i in range(batch_per_epoch):\n",
        "        n = i*batch_size\n",
        "\n",
        "        # Extract each batch by: X_train[n:n+batch_size] and y_train[n:n+batch_size]\n",
        "        # Pass them to step() function\n",
        "        step(X_train[n:n+batch_size], y_train[n:n+batch_size])"
      ],
      "execution_count": 68,
      "outputs": [
        {
          "output_type": "stream",
          "name": "stdout",
          "text": [
            "= 1= 2= 3= 4= 5= 6= 7= 8= 9= 10= 11= 12= 13= 14= 15= 16= 17= 18= 19= 20= 21= 22= 23= 24= 25"
          ]
        }
      ]
    },
    {
      "cell_type": "code",
      "source": [
        "X_train.shape"
      ],
      "metadata": {
        "colab": {
          "base_uri": "https://localhost:8080/"
        },
        "id": "bpv0ytWmHgLh",
        "outputId": "d6ca6c75-8c9a-4dee-87ad-6c18dd5bff3d"
      },
      "execution_count": 69,
      "outputs": [
        {
          "output_type": "execute_result",
          "data": {
            "text/plain": [
              "(60000, 28, 28, 1)"
            ]
          },
          "metadata": {},
          "execution_count": 69
        }
      ]
    },
    {
      "cell_type": "code",
      "source": [
        "model.summary()"
      ],
      "metadata": {
        "colab": {
          "base_uri": "https://localhost:8080/"
        },
        "id": "qHT-RAaCHoVS",
        "outputId": "b2d81d39-71e2-4561-b06c-ecf9f110b3fa"
      },
      "execution_count": 70,
      "outputs": [
        {
          "output_type": "stream",
          "name": "stdout",
          "text": [
            "Model: \"sequential_10\"\n",
            "_________________________________________________________________\n",
            " Layer (type)                Output Shape              Param #   \n",
            "=================================================================\n",
            " conv2d_60 (Conv2D)          (None, 28, 28, 16)        160       \n",
            "                                                                 \n",
            " batch_normalization_66 (Bat  (None, 28, 28, 16)       64        \n",
            " chNormalization)                                                \n",
            "                                                                 \n",
            " max_pooling2d_20 (MaxPoolin  (None, 14, 14, 16)       0         \n",
            " g2D)                                                            \n",
            "                                                                 \n",
            " conv2d_61 (Conv2D)          (None, 14, 14, 32)        4640      \n",
            "                                                                 \n",
            " batch_normalization_67 (Bat  (None, 14, 14, 32)       128       \n",
            " chNormalization)                                                \n",
            "                                                                 \n",
            " conv2d_62 (Conv2D)          (None, 14, 14, 32)        9248      \n",
            "                                                                 \n",
            " batch_normalization_68 (Bat  (None, 14, 14, 32)       128       \n",
            " chNormalization)                                                \n",
            "                                                                 \n",
            " max_pooling2d_21 (MaxPoolin  (None, 7, 7, 32)         0         \n",
            " g2D)                                                            \n",
            "                                                                 \n",
            " conv2d_63 (Conv2D)          (None, 7, 7, 64)          18496     \n",
            "                                                                 \n",
            " batch_normalization_69 (Bat  (None, 7, 7, 64)         256       \n",
            " chNormalization)                                                \n",
            "                                                                 \n",
            " conv2d_64 (Conv2D)          (None, 7, 7, 64)          36928     \n",
            "                                                                 \n",
            " batch_normalization_70 (Bat  (None, 7, 7, 64)         256       \n",
            " chNormalization)                                                \n",
            "                                                                 \n",
            " conv2d_65 (Conv2D)          (None, 7, 7, 64)          36928     \n",
            "                                                                 \n",
            " batch_normalization_71 (Bat  (None, 7, 7, 64)         256       \n",
            " chNormalization)                                                \n",
            "                                                                 \n",
            " flatten_10 (Flatten)        (None, 3136)              0         \n",
            "                                                                 \n",
            " dense_14 (Dense)            (None, 256)               803072    \n",
            "                                                                 \n",
            " batch_normalization_72 (Bat  (None, 256)              1024      \n",
            " chNormalization)                                                \n",
            "                                                                 \n",
            " dropout_8 (Dropout)         (None, 256)               0         \n",
            "                                                                 \n",
            " dense_15 (Dense)            (None, 10)                2570      \n",
            "                                                                 \n",
            "=================================================================\n",
            "Total params: 914,154\n",
            "Trainable params: 913,098\n",
            "Non-trainable params: 1,056\n",
            "_________________________________________________________________\n"
          ]
        }
      ]
    },
    {
      "cell_type": "markdown",
      "metadata": {
        "id": "-6yig-wQKTAJ"
      },
      "source": [
        "##Accuracy on the test set"
      ]
    },
    {
      "cell_type": "code",
      "metadata": {
        "id": "CkYQpi7OzJfi",
        "colab": {
          "base_uri": "https://localhost:8080/"
        },
        "outputId": "44285007-23ee-414f-d505-daf9a483053a"
      },
      "source": [
        "# Calculate accuracy\n",
        "model.compile(optimizer = optimizer, loss = tf.losses.categorical_crossentropy, metrics = ['acc'])\n",
        "print('\\nAccuracy:', model.evaluate(X_test, y_test, verbose = 0)[1])"
      ],
      "execution_count": 71,
      "outputs": [
        {
          "output_type": "stream",
          "name": "stdout",
          "text": [
            "\n",
            "Accuracy: 0.9932000041007996\n"
          ]
        }
      ]
    }
  ]
}